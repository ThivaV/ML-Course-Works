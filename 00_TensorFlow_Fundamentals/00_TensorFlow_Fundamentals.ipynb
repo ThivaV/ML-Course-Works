{
  "nbformat": 4,
  "nbformat_minor": 0,
  "metadata": {
    "colab": {
      "name": "00_TensorFlow_Fundamentals.ipynb",
      "provenance": [],
      "collapsed_sections": [],
      "authorship_tag": "ABX9TyMy5GQ5KhQuXrtQ2r4Yis2H",
      "include_colab_link": true
    },
    "kernelspec": {
      "name": "python3",
      "display_name": "Python 3"
    },
    "language_info": {
      "name": "python"
    },
    "accelerator": "GPU"
  },
  "cells": [
    {
      "cell_type": "markdown",
      "metadata": {
        "id": "view-in-github",
        "colab_type": "text"
      },
      "source": [
        "<a href=\"https://colab.research.google.com/github/ThivaV/ML-Course-Works/blob/main/00-TensorFlow_Fundamentals/00_TensorFlow_Fundamentals.ipynb\" target=\"_parent\"><img src=\"https://colab.research.google.com/assets/colab-badge.svg\" alt=\"Open In Colab\"/></a>"
      ]
    },
    {
      "cell_type": "markdown",
      "metadata": {
        "id": "pGDGN_EeIzbO"
      },
      "source": [
        "# In this notebook, We're going to cover same of the most fundamental concepts of tensors using TensorFlow\n",
        "\n",
        "* Introduction to Tensors\n",
        "* Getting information from tensors\n",
        "* Manipulating tensors\n",
        "* Tensors & NumPy\n",
        "* Using ```@tf.function``` (a way to spped up your regular python functions)\n",
        "* Using GPUs with TensorFlow (or TPUs)\n",
        "* Exercises to try for myself"
      ]
    },
    {
      "cell_type": "markdown",
      "metadata": {
        "id": "EWwN-6VHKYog"
      },
      "source": [
        "## Introduction to Tensors"
      ]
    },
    {
      "cell_type": "code",
      "metadata": {
        "colab": {
          "base_uri": "https://localhost:8080/"
        },
        "id": "930b2nVFMIhz",
        "outputId": "2ec20ab3-0a87-47e7-a7a7-f139ae5d03ff"
      },
      "source": [
        "import tensorflow as tf\n",
        "print(tf.__version__)"
      ],
      "execution_count": 1,
      "outputs": [
        {
          "output_type": "stream",
          "text": [
            "2.5.0\n"
          ],
          "name": "stdout"
        }
      ]
    },
    {
      "cell_type": "code",
      "metadata": {
        "colab": {
          "base_uri": "https://localhost:8080/"
        },
        "id": "flI6v3p4MW83",
        "outputId": "09b1370c-d407-4b0d-9ec3-2afd82f6ec63"
      },
      "source": [
        "# Create tensors with tf.constant()\n",
        "scalar = tf.constant(7)\n",
        "scalar"
      ],
      "execution_count": 2,
      "outputs": [
        {
          "output_type": "execute_result",
          "data": {
            "text/plain": [
              "<tf.Tensor: shape=(), dtype=int32, numpy=7>"
            ]
          },
          "metadata": {
            "tags": []
          },
          "execution_count": 2
        }
      ]
    },
    {
      "cell_type": "code",
      "metadata": {
        "colab": {
          "base_uri": "https://localhost:8080/"
        },
        "id": "8hXJD5Wdl-hY",
        "outputId": "2b83c3ef-3f33-40ab-b687-ed602ac7b988"
      },
      "source": [
        "# Check the number of dimensions of tensor (ndim stands for number of dimensions)\n",
        "scalar.ndim"
      ],
      "execution_count": 3,
      "outputs": [
        {
          "output_type": "execute_result",
          "data": {
            "text/plain": [
              "0"
            ]
          },
          "metadata": {
            "tags": []
          },
          "execution_count": 3
        }
      ]
    },
    {
      "cell_type": "code",
      "metadata": {
        "colab": {
          "base_uri": "https://localhost:8080/"
        },
        "id": "oN3de_CXmZ6K",
        "outputId": "bfaf91d3-1d49-47af-887e-d08094cc4628"
      },
      "source": [
        "# Create a vector\n",
        "vector = tf.constant([10, 10])\n",
        "vector"
      ],
      "execution_count": 4,
      "outputs": [
        {
          "output_type": "execute_result",
          "data": {
            "text/plain": [
              "<tf.Tensor: shape=(2,), dtype=int32, numpy=array([10, 10], dtype=int32)>"
            ]
          },
          "metadata": {
            "tags": []
          },
          "execution_count": 4
        }
      ]
    },
    {
      "cell_type": "code",
      "metadata": {
        "colab": {
          "base_uri": "https://localhost:8080/"
        },
        "id": "n5UCPjD-mhrX",
        "outputId": "1ea602db-6a25-4348-c552-4f79c691aca0"
      },
      "source": [
        "# Check the dimension of our vector\n",
        "vector.ndim"
      ],
      "execution_count": 5,
      "outputs": [
        {
          "output_type": "execute_result",
          "data": {
            "text/plain": [
              "1"
            ]
          },
          "metadata": {
            "tags": []
          },
          "execution_count": 5
        }
      ]
    },
    {
      "cell_type": "code",
      "metadata": {
        "colab": {
          "base_uri": "https://localhost:8080/"
        },
        "id": "ANJOoeOMmvbv",
        "outputId": "70d8b104-70a9-46c9-a759-0561f02bec8c"
      },
      "source": [
        "# Create a matrix (has more than 1 dimension)\n",
        "matrix = tf.constant([[10, 7],\n",
        "                     [7, 10]])\n",
        "matrix"
      ],
      "execution_count": 6,
      "outputs": [
        {
          "output_type": "execute_result",
          "data": {
            "text/plain": [
              "<tf.Tensor: shape=(2, 2), dtype=int32, numpy=\n",
              "array([[10,  7],\n",
              "       [ 7, 10]], dtype=int32)>"
            ]
          },
          "metadata": {
            "tags": []
          },
          "execution_count": 6
        }
      ]
    },
    {
      "cell_type": "code",
      "metadata": {
        "colab": {
          "base_uri": "https://localhost:8080/"
        },
        "id": "6pCkz9HRm8c8",
        "outputId": "26a3ce7a-365b-40d0-b90b-1a764d8e95a1"
      },
      "source": [
        "matrix.ndim"
      ],
      "execution_count": 7,
      "outputs": [
        {
          "output_type": "execute_result",
          "data": {
            "text/plain": [
              "2"
            ]
          },
          "metadata": {
            "tags": []
          },
          "execution_count": 7
        }
      ]
    },
    {
      "cell_type": "code",
      "metadata": {
        "colab": {
          "base_uri": "https://localhost:8080/"
        },
        "id": "ulEXds0KnEFf",
        "outputId": "e1e1a979-6c8c-420d-f66f-433591569a27"
      },
      "source": [
        "# Create another matrix\n",
        "another_matrix = tf.constant([[10., 7.],\n",
        "                              [3., 2.],\n",
        "                              [8., 9.]], dtype=tf.float16) # specify the data type with datatype\n",
        "another_matrix"
      ],
      "execution_count": 8,
      "outputs": [
        {
          "output_type": "execute_result",
          "data": {
            "text/plain": [
              "<tf.Tensor: shape=(3, 2), dtype=float16, numpy=\n",
              "array([[10.,  7.],\n",
              "       [ 3.,  2.],\n",
              "       [ 8.,  9.]], dtype=float16)>"
            ]
          },
          "metadata": {
            "tags": []
          },
          "execution_count": 8
        }
      ]
    },
    {
      "cell_type": "code",
      "metadata": {
        "colab": {
          "base_uri": "https://localhost:8080/"
        },
        "id": "PSGHS_9WnpXg",
        "outputId": "c5573401-ac2e-433d-d5d8-e86a4be2e502"
      },
      "source": [
        "another_matrix.ndim"
      ],
      "execution_count": 9,
      "outputs": [
        {
          "output_type": "execute_result",
          "data": {
            "text/plain": [
              "2"
            ]
          },
          "metadata": {
            "tags": []
          },
          "execution_count": 9
        }
      ]
    },
    {
      "cell_type": "code",
      "metadata": {
        "colab": {
          "base_uri": "https://localhost:8080/"
        },
        "id": "jBQEgvjCn1Sl",
        "outputId": "de4bed2a-14a1-4748-b54d-4ebd6c1338b3"
      },
      "source": [
        "# Let's create a tensor\n",
        "tensor = tf.constant([[[1, 2, 3],\n",
        "                       [4, 5, 6]],\n",
        "                      [[7, 8, 9],\n",
        "                       [10, 11, 12]],\n",
        "                      [[13, 14, 15],\n",
        "                       [16, 17, 18]]])\n",
        "tensor"
      ],
      "execution_count": 10,
      "outputs": [
        {
          "output_type": "execute_result",
          "data": {
            "text/plain": [
              "<tf.Tensor: shape=(3, 2, 3), dtype=int32, numpy=\n",
              "array([[[ 1,  2,  3],\n",
              "        [ 4,  5,  6]],\n",
              "\n",
              "       [[ 7,  8,  9],\n",
              "        [10, 11, 12]],\n",
              "\n",
              "       [[13, 14, 15],\n",
              "        [16, 17, 18]]], dtype=int32)>"
            ]
          },
          "metadata": {
            "tags": []
          },
          "execution_count": 10
        }
      ]
    },
    {
      "cell_type": "code",
      "metadata": {
        "colab": {
          "base_uri": "https://localhost:8080/"
        },
        "id": "ngvsTctSoXC4",
        "outputId": "e4139a2b-25a1-4470-d2c8-23e00068f0a9"
      },
      "source": [
        "tensor.ndim"
      ],
      "execution_count": 11,
      "outputs": [
        {
          "output_type": "execute_result",
          "data": {
            "text/plain": [
              "3"
            ]
          },
          "metadata": {
            "tags": []
          },
          "execution_count": 11
        }
      ]
    },
    {
      "cell_type": "markdown",
      "metadata": {
        "id": "OxumSvPsocvG"
      },
      "source": [
        "What We've created so far:\n",
        "* Scalar: a single number\n",
        "* Vector: a number with direction (e.g. wind speed and direction)\n",
        "* Matrix: a ```2-dimensional``` array of numbers\n",
        "* Tensor: an ```n-dimensional``` array of numbers (when ```n``` can be any number, a ```0-dimensional``` tensor is a scalar, a ```1-dimensional``` tensor is a vector)"
      ]
    },
    {
      "cell_type": "markdown",
      "metadata": {
        "id": "7wNsyuiPqBlL"
      },
      "source": [
        "### Creating tensors with `tf.Variable`"
      ]
    },
    {
      "cell_type": "code",
      "metadata": {
        "colab": {
          "base_uri": "https://localhost:8080/"
        },
        "id": "ww5sjg93pm8m",
        "outputId": "4c85519a-6956-479b-c40b-8e60e454c6fd"
      },
      "source": [
        "tf.Variable"
      ],
      "execution_count": 12,
      "outputs": [
        {
          "output_type": "execute_result",
          "data": {
            "text/plain": [
              "tensorflow.python.ops.variables.Variable"
            ]
          },
          "metadata": {
            "tags": []
          },
          "execution_count": 12
        }
      ]
    },
    {
      "cell_type": "code",
      "metadata": {
        "colab": {
          "base_uri": "https://localhost:8080/"
        },
        "id": "KO5HFaxCqMyu",
        "outputId": "bf50be1f-c1f4-44c4-9ef9-823a47ac22d1"
      },
      "source": [
        "# Create the same tensor with tf.Variable() as above\n",
        "changeable_tensor = tf.Variable([10, 7])\n",
        "unchangeable_tensor = tf.constant([10, 7])\n",
        "changeable_tensor, unchangeable_tensor"
      ],
      "execution_count": 13,
      "outputs": [
        {
          "output_type": "execute_result",
          "data": {
            "text/plain": [
              "(<tf.Variable 'Variable:0' shape=(2,) dtype=int32, numpy=array([10,  7], dtype=int32)>,\n",
              " <tf.Tensor: shape=(2,), dtype=int32, numpy=array([10,  7], dtype=int32)>)"
            ]
          },
          "metadata": {
            "tags": []
          },
          "execution_count": 13
        }
      ]
    },
    {
      "cell_type": "code",
      "metadata": {
        "colab": {
          "base_uri": "https://localhost:8080/",
          "height": 198
        },
        "id": "sY9zyjE-q1Q_",
        "outputId": "1851f464-afb6-4b79-bd6a-a68fe8c50f85"
      },
      "source": [
        "# Let's try chnage one of the elements in our chnageable tensor\n",
        "changeable_tensor[0] = 7\n",
        "changeable_tensor"
      ],
      "execution_count": 14,
      "outputs": [
        {
          "output_type": "error",
          "ename": "TypeError",
          "evalue": "ignored",
          "traceback": [
            "\u001b[0;31m---------------------------------------------------------------------------\u001b[0m",
            "\u001b[0;31mTypeError\u001b[0m                                 Traceback (most recent call last)",
            "\u001b[0;32m<ipython-input-14-14e565148b95>\u001b[0m in \u001b[0;36m<module>\u001b[0;34m()\u001b[0m\n\u001b[1;32m      1\u001b[0m \u001b[0;31m# Let's try chnage one of the elements in our chnageable tensor\u001b[0m\u001b[0;34m\u001b[0m\u001b[0;34m\u001b[0m\u001b[0;34m\u001b[0m\u001b[0m\n\u001b[0;32m----> 2\u001b[0;31m \u001b[0mchangeable_tensor\u001b[0m\u001b[0;34m[\u001b[0m\u001b[0;36m0\u001b[0m\u001b[0;34m]\u001b[0m \u001b[0;34m=\u001b[0m \u001b[0;36m7\u001b[0m\u001b[0;34m\u001b[0m\u001b[0;34m\u001b[0m\u001b[0m\n\u001b[0m\u001b[1;32m      3\u001b[0m \u001b[0mchangeable_tensor\u001b[0m\u001b[0;34m\u001b[0m\u001b[0;34m\u001b[0m\u001b[0m\n",
            "\u001b[0;31mTypeError\u001b[0m: 'ResourceVariable' object does not support item assignment"
          ]
        }
      ]
    },
    {
      "cell_type": "code",
      "metadata": {
        "colab": {
          "base_uri": "https://localhost:8080/"
        },
        "id": "7roQbj7LrQWR",
        "outputId": "d3d80463-768d-4e7e-a33d-c74f729b7635"
      },
      "source": [
        "# How about We try .assign()\n",
        "changeable_tensor[0].assign(7)\n",
        "changeable_tensor"
      ],
      "execution_count": 15,
      "outputs": [
        {
          "output_type": "execute_result",
          "data": {
            "text/plain": [
              "<tf.Variable 'Variable:0' shape=(2,) dtype=int32, numpy=array([7, 7], dtype=int32)>"
            ]
          },
          "metadata": {
            "tags": []
          },
          "execution_count": 15
        }
      ]
    },
    {
      "cell_type": "code",
      "metadata": {
        "colab": {
          "base_uri": "https://localhost:8080/",
          "height": 181
        },
        "id": "vsp6vP1brX9p",
        "outputId": "46a38cb8-ca4e-4ea3-f904-bcc9a40f0feb"
      },
      "source": [
        "# Let's try change our unchangeable tensor\n",
        "unchangeable_tensor[0] = 7"
      ],
      "execution_count": 16,
      "outputs": [
        {
          "output_type": "error",
          "ename": "TypeError",
          "evalue": "ignored",
          "traceback": [
            "\u001b[0;31m---------------------------------------------------------------------------\u001b[0m",
            "\u001b[0;31mTypeError\u001b[0m                                 Traceback (most recent call last)",
            "\u001b[0;32m<ipython-input-16-aa4de0a69df2>\u001b[0m in \u001b[0;36m<module>\u001b[0;34m()\u001b[0m\n\u001b[1;32m      1\u001b[0m \u001b[0;31m# Let's try change our unchangeable tensor\u001b[0m\u001b[0;34m\u001b[0m\u001b[0;34m\u001b[0m\u001b[0;34m\u001b[0m\u001b[0m\n\u001b[0;32m----> 2\u001b[0;31m \u001b[0munchangeable_tensor\u001b[0m\u001b[0;34m[\u001b[0m\u001b[0;36m0\u001b[0m\u001b[0;34m]\u001b[0m \u001b[0;34m=\u001b[0m \u001b[0;36m7\u001b[0m\u001b[0;34m\u001b[0m\u001b[0;34m\u001b[0m\u001b[0m\n\u001b[0m",
            "\u001b[0;31mTypeError\u001b[0m: 'tensorflow.python.framework.ops.EagerTensor' object does not support item assignment"
          ]
        }
      ]
    },
    {
      "cell_type": "code",
      "metadata": {
        "colab": {
          "base_uri": "https://localhost:8080/",
          "height": 300
        },
        "id": "5ClAMEi1rqKs",
        "outputId": "5d5898e1-1f74-42d1-e834-13a1c7c33fb3"
      },
      "source": [
        "unchangeable_tensor[0].assign(7)\n",
        "unchangeable_tensor"
      ],
      "execution_count": 17,
      "outputs": [
        {
          "output_type": "error",
          "ename": "AttributeError",
          "evalue": "ignored",
          "traceback": [
            "\u001b[0;31m---------------------------------------------------------------------------\u001b[0m",
            "\u001b[0;31mAttributeError\u001b[0m                            Traceback (most recent call last)",
            "\u001b[0;32m<ipython-input-17-958e786d8d1f>\u001b[0m in \u001b[0;36m<module>\u001b[0;34m()\u001b[0m\n\u001b[0;32m----> 1\u001b[0;31m \u001b[0munchangeable_tensor\u001b[0m\u001b[0;34m[\u001b[0m\u001b[0;36m0\u001b[0m\u001b[0;34m]\u001b[0m\u001b[0;34m.\u001b[0m\u001b[0massign\u001b[0m\u001b[0;34m(\u001b[0m\u001b[0;36m7\u001b[0m\u001b[0;34m)\u001b[0m\u001b[0;34m\u001b[0m\u001b[0;34m\u001b[0m\u001b[0m\n\u001b[0m\u001b[1;32m      2\u001b[0m \u001b[0munchangeable_tensor\u001b[0m\u001b[0;34m\u001b[0m\u001b[0;34m\u001b[0m\u001b[0m\n",
            "\u001b[0;32m/usr/local/lib/python3.7/dist-packages/tensorflow/python/framework/ops.py\u001b[0m in \u001b[0;36m__getattr__\u001b[0;34m(self, name)\u001b[0m\n\u001b[1;32m    399\u001b[0m         \u001b[0;32mimport\u001b[0m \u001b[0mtensorflow\u001b[0m\u001b[0;34m.\u001b[0m\u001b[0mpython\u001b[0m\u001b[0;34m.\u001b[0m\u001b[0mops\u001b[0m\u001b[0;34m.\u001b[0m\u001b[0mnumpy_ops\u001b[0m\u001b[0;34m.\u001b[0m\u001b[0mnp_config\u001b[0m\u001b[0;34m\u001b[0m\u001b[0;34m\u001b[0m\u001b[0m\n\u001b[1;32m    400\u001b[0m         np_config.enable_numpy_behavior()\"\"\".format(type(self).__name__, name))\n\u001b[0;32m--> 401\u001b[0;31m     \u001b[0mself\u001b[0m\u001b[0;34m.\u001b[0m\u001b[0m__getattribute__\u001b[0m\u001b[0;34m(\u001b[0m\u001b[0mname\u001b[0m\u001b[0;34m)\u001b[0m\u001b[0;34m\u001b[0m\u001b[0;34m\u001b[0m\u001b[0m\n\u001b[0m\u001b[1;32m    402\u001b[0m \u001b[0;34m\u001b[0m\u001b[0m\n\u001b[1;32m    403\u001b[0m   \u001b[0;34m@\u001b[0m\u001b[0mstaticmethod\u001b[0m\u001b[0;34m\u001b[0m\u001b[0;34m\u001b[0m\u001b[0m\n",
            "\u001b[0;31mAttributeError\u001b[0m: 'tensorflow.python.framework.ops.EagerTensor' object has no attribute 'assign'"
          ]
        }
      ]
    },
    {
      "cell_type": "markdown",
      "metadata": {
        "id": "bhB4-CEqsUSE"
      },
      "source": [
        "🔑 **Note:** Rarely in practice We will need to decide whether to use `tf.constant` or `tf.Variable` to create tensors, as TensorFlow does this for us. However, if in doubt, use `tf.constant` and change it later if needed."
      ]
    },
    {
      "cell_type": "markdown",
      "metadata": {
        "id": "pCylTEHnrwWV"
      },
      "source": [
        "### Creating random tensors\n",
        "\n",
        ">Random tensors are tensors of some abitrary size which contain random numbers."
      ]
    },
    {
      "cell_type": "code",
      "metadata": {
        "id": "AAyzoJ2XsMl4",
        "colab": {
          "base_uri": "https://localhost:8080/"
        },
        "outputId": "8f394c22-ee30-4a1a-e1ac-c7713d4d04c5"
      },
      "source": [
        "# Create two random (but the same) tensors\n",
        "random_1 = tf.random.Generator.from_seed(40) # set seed for reproducibility\n",
        "random_1 = random_1.normal(shape=(3, 2))\n",
        "random_2 = tf.random.Generator.from_seed(40)\n",
        "random_2 = random_2.normal(shape=(3, 2))\n",
        "\n",
        "# Are they equal ?\n",
        "random_1, random_2, random_1 == random_2"
      ],
      "execution_count": 22,
      "outputs": [
        {
          "output_type": "execute_result",
          "data": {
            "text/plain": [
              "(<tf.Tensor: shape=(3, 2), dtype=float32, numpy=\n",
              " array([[ 0.78953624,  0.53897345],\n",
              "        [-0.48535708,  0.74055266],\n",
              "        [ 0.31662667, -1.4391748 ]], dtype=float32)>,\n",
              " <tf.Tensor: shape=(3, 2), dtype=float32, numpy=\n",
              " array([[ 0.78953624,  0.53897345],\n",
              "        [-0.48535708,  0.74055266],\n",
              "        [ 0.31662667, -1.4391748 ]], dtype=float32)>,\n",
              " <tf.Tensor: shape=(3, 2), dtype=bool, numpy=\n",
              " array([[ True,  True],\n",
              "        [ True,  True],\n",
              "        [ True,  True]])>)"
            ]
          },
          "metadata": {
            "tags": []
          },
          "execution_count": 22
        }
      ]
    },
    {
      "cell_type": "markdown",
      "metadata": {
        "id": "0Zh3hHnOB_yy"
      },
      "source": [
        "### Shuffle the order of elements in a tensor"
      ]
    },
    {
      "cell_type": "code",
      "metadata": {
        "colab": {
          "base_uri": "https://localhost:8080/"
        },
        "id": "S2DFWrVyDMe0",
        "outputId": "521759d0-f291-4ddf-b16a-5346f461ee52"
      },
      "source": [
        "# Shuffle a tensor (valuable for when We want to shuffle the data so the inherent order doesn't effact learning)\n",
        "not_shuffled = tf.constant([[10, 7],\n",
        "                            [3, 4],\n",
        "                            [2, 5]])\n",
        "not_shuffled.ndim"
      ],
      "execution_count": 23,
      "outputs": [
        {
          "output_type": "execute_result",
          "data": {
            "text/plain": [
              "2"
            ]
          },
          "metadata": {
            "tags": []
          },
          "execution_count": 23
        }
      ]
    },
    {
      "cell_type": "code",
      "metadata": {
        "colab": {
          "base_uri": "https://localhost:8080/"
        },
        "id": "9SZRX4EaD9pa",
        "outputId": "9a2650f0-8037-4e0a-dd21-e3a59af9897d"
      },
      "source": [
        "not_shuffled"
      ],
      "execution_count": 24,
      "outputs": [
        {
          "output_type": "execute_result",
          "data": {
            "text/plain": [
              "<tf.Tensor: shape=(3, 2), dtype=int32, numpy=\n",
              "array([[10,  7],\n",
              "       [ 3,  4],\n",
              "       [ 2,  5]], dtype=int32)>"
            ]
          },
          "metadata": {
            "tags": []
          },
          "execution_count": 24
        }
      ]
    },
    {
      "cell_type": "code",
      "metadata": {
        "colab": {
          "base_uri": "https://localhost:8080/"
        },
        "id": "a4o78GtVD_L9",
        "outputId": "3dadb9c7-e480-4a39-8a53-73b78534bdcd"
      },
      "source": [
        "# Shuffle our non-shuffled tensor\n",
        "tf.random.shuffle(not_shuffled)"
      ],
      "execution_count": 25,
      "outputs": [
        {
          "output_type": "execute_result",
          "data": {
            "text/plain": [
              "<tf.Tensor: shape=(3, 2), dtype=int32, numpy=\n",
              "array([[ 3,  4],\n",
              "       [10,  7],\n",
              "       [ 2,  5]], dtype=int32)>"
            ]
          },
          "metadata": {
            "tags": []
          },
          "execution_count": 25
        }
      ]
    },
    {
      "cell_type": "code",
      "metadata": {
        "colab": {
          "base_uri": "https://localhost:8080/"
        },
        "id": "weniaEPbEWZf",
        "outputId": "c64a8a77-ef91-4fb5-f115-ae62a6bee250"
      },
      "source": [
        "# Shuffle again our non-shuffled tensor\n",
        "tf.random.shuffle(not_shuffled)"
      ],
      "execution_count": 26,
      "outputs": [
        {
          "output_type": "execute_result",
          "data": {
            "text/plain": [
              "<tf.Tensor: shape=(3, 2), dtype=int32, numpy=\n",
              "array([[ 2,  5],\n",
              "       [10,  7],\n",
              "       [ 3,  4]], dtype=int32)>"
            ]
          },
          "metadata": {
            "tags": []
          },
          "execution_count": 26
        }
      ]
    },
    {
      "cell_type": "code",
      "metadata": {
        "colab": {
          "base_uri": "https://localhost:8080/"
        },
        "id": "9il49RbWEri5",
        "outputId": "ac792294-26ca-45ba-e6db-34b9b93ee274"
      },
      "source": [
        "# Shuffle again our non-shuffled tensor but this time with seed\n",
        "tf.random.set_seed(40)\n",
        "tf.random.shuffle(not_shuffled, seed=40)"
      ],
      "execution_count": 29,
      "outputs": [
        {
          "output_type": "execute_result",
          "data": {
            "text/plain": [
              "<tf.Tensor: shape=(3, 2), dtype=int32, numpy=\n",
              "array([[ 2,  5],\n",
              "       [10,  7],\n",
              "       [ 3,  4]], dtype=int32)>"
            ]
          },
          "metadata": {
            "tags": []
          },
          "execution_count": 29
        }
      ]
    },
    {
      "cell_type": "markdown",
      "metadata": {
        "id": "CREQyM6aFQSa"
      },
      "source": [
        "🛠️ **Exercise** Read through TensorFlow documentation on random seed generation: https://www.tensorflow.org/api_docs/python/tf/random/set_seed and practice writing 5 random tensors and shuffle them.\n",
        "\n",
        "It looks like if We want our shuffled tensors to be in the same order, We've got to use the global level random seed as well as the operation level random seed:\n",
        "> Rule 4: If both the global and the operation seed are set: Both seeds are used in conjunction to determine the random sequence.\n",
        "\n",
        "![image.png](data:image/png;base64,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)"
      ]
    },
    {
      "cell_type": "code",
      "metadata": {
        "colab": {
          "base_uri": "https://localhost:8080/"
        },
        "id": "JasZA5eZE69e",
        "outputId": "c489632e-a62b-487f-a167-57f812b64506"
      },
      "source": [
        "tf.random.set_seed(42) # global level random seed\n",
        "tf.random.shuffle(not_shuffled, seed=42) # operation level random seed"
      ],
      "execution_count": 30,
      "outputs": [
        {
          "output_type": "execute_result",
          "data": {
            "text/plain": [
              "<tf.Tensor: shape=(3, 2), dtype=int32, numpy=\n",
              "array([[10,  7],\n",
              "       [ 3,  4],\n",
              "       [ 2,  5]], dtype=int32)>"
            ]
          },
          "metadata": {
            "tags": []
          },
          "execution_count": 30
        }
      ]
    },
    {
      "cell_type": "markdown",
      "metadata": {
        "id": "ZNoiyojNHhFS"
      },
      "source": [
        "### Other ways to make tensors"
      ]
    },
    {
      "cell_type": "code",
      "metadata": {
        "colab": {
          "base_uri": "https://localhost:8080/"
        },
        "id": "POFpgC6SNMCY",
        "outputId": "82652dad-936c-4cd9-e76e-a343193c5f56"
      },
      "source": [
        "# Create a tensor of all ones\n",
        "tf.ones([10, 7])"
      ],
      "execution_count": 31,
      "outputs": [
        {
          "output_type": "execute_result",
          "data": {
            "text/plain": [
              "<tf.Tensor: shape=(10, 7), dtype=float32, numpy=\n",
              "array([[1., 1., 1., 1., 1., 1., 1.],\n",
              "       [1., 1., 1., 1., 1., 1., 1.],\n",
              "       [1., 1., 1., 1., 1., 1., 1.],\n",
              "       [1., 1., 1., 1., 1., 1., 1.],\n",
              "       [1., 1., 1., 1., 1., 1., 1.],\n",
              "       [1., 1., 1., 1., 1., 1., 1.],\n",
              "       [1., 1., 1., 1., 1., 1., 1.],\n",
              "       [1., 1., 1., 1., 1., 1., 1.],\n",
              "       [1., 1., 1., 1., 1., 1., 1.],\n",
              "       [1., 1., 1., 1., 1., 1., 1.]], dtype=float32)>"
            ]
          },
          "metadata": {
            "tags": []
          },
          "execution_count": 31
        }
      ]
    },
    {
      "cell_type": "code",
      "metadata": {
        "colab": {
          "base_uri": "https://localhost:8080/"
        },
        "id": "CGSGsPlANZe7",
        "outputId": "7da6b646-6a75-458d-e941-ce7466d09e0b"
      },
      "source": [
        "# Create a tensor of all zeros\n",
        "tf.zeros(shape=(3, 4))"
      ],
      "execution_count": 33,
      "outputs": [
        {
          "output_type": "execute_result",
          "data": {
            "text/plain": [
              "<tf.Tensor: shape=(3, 4), dtype=float32, numpy=\n",
              "array([[0., 0., 0., 0.],\n",
              "       [0., 0., 0., 0.],\n",
              "       [0., 0., 0., 0.]], dtype=float32)>"
            ]
          },
          "metadata": {
            "tags": []
          },
          "execution_count": 33
        }
      ]
    },
    {
      "cell_type": "markdown",
      "metadata": {
        "id": "wkSxSqVZNuad"
      },
      "source": [
        "### Turn NumPy arrays into tensors\n",
        "\n",
        "> The main difference between NumPy arrays and TensorFlow tensors is that tensors is that tensors can be run on a GPU computing"
      ]
    },
    {
      "cell_type": "code",
      "metadata": {
        "colab": {
          "base_uri": "https://localhost:8080/"
        },
        "id": "Vr9a-6y3NiG7",
        "outputId": "9aab7c19-db6f-46bc-9b2e-3666e2ced023"
      },
      "source": [
        "# We can also turn NumPy arrays into tensors\n",
        "import numpy as np\n",
        "numpy_A = np.arange(1, 25, dtype=np.int32) # create a NumPy array between 1 to 25\n",
        "numpy_A\n",
        "\n",
        "# X = tf.constant(some_matix) # capital for matrix or tensor\n",
        "# y = tf.constant(vector) # npn-capital for vector"
      ],
      "execution_count": 35,
      "outputs": [
        {
          "output_type": "execute_result",
          "data": {
            "text/plain": [
              "array([ 1,  2,  3,  4,  5,  6,  7,  8,  9, 10, 11, 12, 13, 14, 15, 16, 17,\n",
              "       18, 19, 20, 21, 22, 23, 24], dtype=int32)"
            ]
          },
          "metadata": {
            "tags": []
          },
          "execution_count": 35
        }
      ]
    },
    {
      "cell_type": "code",
      "metadata": {
        "colab": {
          "base_uri": "https://localhost:8080/"
        },
        "id": "I3x8i10AOmdd",
        "outputId": "52df5ab2-3ee6-4594-a008-44f3ebe31715"
      },
      "source": [
        "# Converting NumPy array to tensor\n",
        "A = tf.constant(numpy_A)\n",
        "A"
      ],
      "execution_count": 36,
      "outputs": [
        {
          "output_type": "execute_result",
          "data": {
            "text/plain": [
              "<tf.Tensor: shape=(24,), dtype=int32, numpy=\n",
              "array([ 1,  2,  3,  4,  5,  6,  7,  8,  9, 10, 11, 12, 13, 14, 15, 16, 17,\n",
              "       18, 19, 20, 21, 22, 23, 24], dtype=int32)>"
            ]
          },
          "metadata": {
            "tags": []
          },
          "execution_count": 36
        }
      ]
    },
    {
      "cell_type": "code",
      "metadata": {
        "colab": {
          "base_uri": "https://localhost:8080/"
        },
        "id": "x3I1GzgtPd9n",
        "outputId": "ac62dbfa-a278-4841-8274-bf01747864f4"
      },
      "source": [
        "# Since there is 24 elements in the created array\n",
        "2 * 3 * 4"
      ],
      "execution_count": 39,
      "outputs": [
        {
          "output_type": "execute_result",
          "data": {
            "text/plain": [
              "24"
            ]
          },
          "metadata": {
            "tags": []
          },
          "execution_count": 39
        }
      ]
    },
    {
      "cell_type": "code",
      "metadata": {
        "colab": {
          "base_uri": "https://localhost:8080/"
        },
        "id": "o_sat1QOOxwZ",
        "outputId": "d447fd6a-e4e3-4c6c-c80a-f158f44dc76a"
      },
      "source": [
        "# Shape (2 * 3 * 4 = 24)\n",
        "A = tf.constant(numpy_A, shape=(2, 3, 4))\n",
        "B = tf.constant(numpy_A)\n",
        "A, B"
      ],
      "execution_count": 38,
      "outputs": [
        {
          "output_type": "execute_result",
          "data": {
            "text/plain": [
              "(<tf.Tensor: shape=(2, 3, 4), dtype=int32, numpy=\n",
              " array([[[ 1,  2,  3,  4],\n",
              "         [ 5,  6,  7,  8],\n",
              "         [ 9, 10, 11, 12]],\n",
              " \n",
              "        [[13, 14, 15, 16],\n",
              "         [17, 18, 19, 20],\n",
              "         [21, 22, 23, 24]]], dtype=int32)>,\n",
              " <tf.Tensor: shape=(24,), dtype=int32, numpy=\n",
              " array([ 1,  2,  3,  4,  5,  6,  7,  8,  9, 10, 11, 12, 13, 14, 15, 16, 17,\n",
              "        18, 19, 20, 21, 22, 23, 24], dtype=int32)>)"
            ]
          },
          "metadata": {
            "tags": []
          },
          "execution_count": 38
        }
      ]
    },
    {
      "cell_type": "code",
      "metadata": {
        "colab": {
          "base_uri": "https://localhost:8080/"
        },
        "id": "gjflqQ-TPiHM",
        "outputId": "8b5da0f5-248c-4307-e71b-91431ee6de3e"
      },
      "source": [
        "3 * 8"
      ],
      "execution_count": 40,
      "outputs": [
        {
          "output_type": "execute_result",
          "data": {
            "text/plain": [
              "24"
            ]
          },
          "metadata": {
            "tags": []
          },
          "execution_count": 40
        }
      ]
    },
    {
      "cell_type": "code",
      "metadata": {
        "colab": {
          "base_uri": "https://localhost:8080/"
        },
        "id": "uODXcp3wO-m5",
        "outputId": "9a1515aa-33ee-40ad-ed25-b95315e9aca7"
      },
      "source": [
        "# Shape (3 * 8 = 24)\n",
        "A = tf.constant(numpy_A, shape=(3, 8))\n",
        "B = tf.constant(numpy_A)\n",
        "A, B"
      ],
      "execution_count": 41,
      "outputs": [
        {
          "output_type": "execute_result",
          "data": {
            "text/plain": [
              "(<tf.Tensor: shape=(3, 8), dtype=int32, numpy=\n",
              " array([[ 1,  2,  3,  4,  5,  6,  7,  8],\n",
              "        [ 9, 10, 11, 12, 13, 14, 15, 16],\n",
              "        [17, 18, 19, 20, 21, 22, 23, 24]], dtype=int32)>,\n",
              " <tf.Tensor: shape=(24,), dtype=int32, numpy=\n",
              " array([ 1,  2,  3,  4,  5,  6,  7,  8,  9, 10, 11, 12, 13, 14, 15, 16, 17,\n",
              "        18, 19, 20, 21, 22, 23, 24], dtype=int32)>)"
            ]
          },
          "metadata": {
            "tags": []
          },
          "execution_count": 41
        }
      ]
    },
    {
      "cell_type": "code",
      "metadata": {
        "colab": {
          "base_uri": "https://localhost:8080/"
        },
        "id": "Rqrb2lODQITl",
        "outputId": "08d2687c-351a-4af2-fc87-a768f0939277"
      },
      "source": [
        "A.ndim"
      ],
      "execution_count": 42,
      "outputs": [
        {
          "output_type": "execute_result",
          "data": {
            "text/plain": [
              "2"
            ]
          },
          "metadata": {
            "tags": []
          },
          "execution_count": 42
        }
      ]
    },
    {
      "cell_type": "markdown",
      "metadata": {
        "id": "ZRGgHtdqPnv3"
      },
      "source": [
        "### Getting information from tensors\n",
        "\n",
        ">When dealing with tensors We probably want to be aware of the following attributes:\n",
        "* Shape\n",
        "* Rank\n",
        "* Axis or dimension\n",
        "* Size\n",
        "\n",
        "![image.png](data:image/png;base64,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)"
      ]
    },
    {
      "cell_type": "code",
      "metadata": {
        "colab": {
          "base_uri": "https://localhost:8080/"
        },
        "id": "ya5jOu21QGyM",
        "outputId": "a6c4e740-2cb3-409a-8f0e-082027cd233d"
      },
      "source": [
        "# Create a rank 4 tensor (4 dimensions)\n",
        "rank_4_tensor = tf.zeros(shape=([2, 3, 4, 5]))\n",
        "rank_4_tensor"
      ],
      "execution_count": 43,
      "outputs": [
        {
          "output_type": "execute_result",
          "data": {
            "text/plain": [
              "<tf.Tensor: shape=(2, 3, 4, 5), dtype=float32, numpy=\n",
              "array([[[[0., 0., 0., 0., 0.],\n",
              "         [0., 0., 0., 0., 0.],\n",
              "         [0., 0., 0., 0., 0.],\n",
              "         [0., 0., 0., 0., 0.]],\n",
              "\n",
              "        [[0., 0., 0., 0., 0.],\n",
              "         [0., 0., 0., 0., 0.],\n",
              "         [0., 0., 0., 0., 0.],\n",
              "         [0., 0., 0., 0., 0.]],\n",
              "\n",
              "        [[0., 0., 0., 0., 0.],\n",
              "         [0., 0., 0., 0., 0.],\n",
              "         [0., 0., 0., 0., 0.],\n",
              "         [0., 0., 0., 0., 0.]]],\n",
              "\n",
              "\n",
              "       [[[0., 0., 0., 0., 0.],\n",
              "         [0., 0., 0., 0., 0.],\n",
              "         [0., 0., 0., 0., 0.],\n",
              "         [0., 0., 0., 0., 0.]],\n",
              "\n",
              "        [[0., 0., 0., 0., 0.],\n",
              "         [0., 0., 0., 0., 0.],\n",
              "         [0., 0., 0., 0., 0.],\n",
              "         [0., 0., 0., 0., 0.]],\n",
              "\n",
              "        [[0., 0., 0., 0., 0.],\n",
              "         [0., 0., 0., 0., 0.],\n",
              "         [0., 0., 0., 0., 0.],\n",
              "         [0., 0., 0., 0., 0.]]]], dtype=float32)>"
            ]
          },
          "metadata": {
            "tags": []
          },
          "execution_count": 43
        }
      ]
    },
    {
      "cell_type": "code",
      "metadata": {
        "colab": {
          "base_uri": "https://localhost:8080/"
        },
        "id": "_KDvoSYDRlnI",
        "outputId": "339b90a1-ad20-47a8-a40f-aecd77792ef5"
      },
      "source": [
        "rank_4_tensor[0]"
      ],
      "execution_count": 44,
      "outputs": [
        {
          "output_type": "execute_result",
          "data": {
            "text/plain": [
              "<tf.Tensor: shape=(3, 4, 5), dtype=float32, numpy=\n",
              "array([[[0., 0., 0., 0., 0.],\n",
              "        [0., 0., 0., 0., 0.],\n",
              "        [0., 0., 0., 0., 0.],\n",
              "        [0., 0., 0., 0., 0.]],\n",
              "\n",
              "       [[0., 0., 0., 0., 0.],\n",
              "        [0., 0., 0., 0., 0.],\n",
              "        [0., 0., 0., 0., 0.],\n",
              "        [0., 0., 0., 0., 0.]],\n",
              "\n",
              "       [[0., 0., 0., 0., 0.],\n",
              "        [0., 0., 0., 0., 0.],\n",
              "        [0., 0., 0., 0., 0.],\n",
              "        [0., 0., 0., 0., 0.]]], dtype=float32)>"
            ]
          },
          "metadata": {
            "tags": []
          },
          "execution_count": 44
        }
      ]
    },
    {
      "cell_type": "code",
      "metadata": {
        "colab": {
          "base_uri": "https://localhost:8080/"
        },
        "id": "16moykqxSAEp",
        "outputId": "e6bc858c-f732-4123-c9e4-bb7a512d83d5"
      },
      "source": [
        "rank_4_tensor.shape, rank_4_tensor.ndim, tf.size(rank_4_tensor)"
      ],
      "execution_count": 45,
      "outputs": [
        {
          "output_type": "execute_result",
          "data": {
            "text/plain": [
              "(TensorShape([2, 3, 4, 5]), 4, <tf.Tensor: shape=(), dtype=int32, numpy=120>)"
            ]
          },
          "metadata": {
            "tags": []
          },
          "execution_count": 45
        }
      ]
    },
    {
      "cell_type": "code",
      "metadata": {
        "colab": {
          "base_uri": "https://localhost:8080/"
        },
        "id": "SLujXPFGSSSd",
        "outputId": "c2095cb8-ce8e-44b5-9506-582e28fecc1a"
      },
      "source": [
        "# Size\n",
        "2 * 3 * 4 * 5"
      ],
      "execution_count": 46,
      "outputs": [
        {
          "output_type": "execute_result",
          "data": {
            "text/plain": [
              "120"
            ]
          },
          "metadata": {
            "tags": []
          },
          "execution_count": 46
        }
      ]
    },
    {
      "cell_type": "code",
      "metadata": {
        "colab": {
          "base_uri": "https://localhost:8080/"
        },
        "id": "iRB1wzK2Sarb",
        "outputId": "88ba3f73-02a6-4eba-d3f6-f257eac8457b"
      },
      "source": [
        "# Get various attributes of our tensor\n",
        "print(\"Datatype of every element: \", rank_4_tensor.dtype)\n",
        "print(\"Number of dimensions (rank): \", rank_4_tensor.ndim)\n",
        "print(\"Shape of tensor: \", rank_4_tensor.shape)\n",
        "print(\"Elements along the 0 axis: \", rank_4_tensor.shape[0])\n",
        "print(\"Elements along the last axis: \", rank_4_tensor.shape[-1])\n",
        "print(\"Total number of elements in our tensor: \", tf.size(rank_4_tensor))\n",
        "print(\"Total number of elements in our tensor (NumPy): \", tf.size(rank_4_tensor).numpy())"
      ],
      "execution_count": 48,
      "outputs": [
        {
          "output_type": "stream",
          "text": [
            "Datatype of every element:  <dtype: 'float32'>\n",
            "Number of dimensions (rank):  4\n",
            "Shape of tensor:  (2, 3, 4, 5)\n",
            "Elements along the 0 axis:  2\n",
            "Elements along the last axis:  5\n",
            "Total number of elements in our tensor:  tf.Tensor(120, shape=(), dtype=int32)\n",
            "Total number of elements in our tensor (NumPy):  120\n"
          ],
          "name": "stdout"
        }
      ]
    },
    {
      "cell_type": "markdown",
      "metadata": {
        "id": "O1VwCJxVTTbB"
      },
      "source": [
        "### Indexing tensors\n",
        "\n",
        ">Tensors can be indexed just like Python lists"
      ]
    },
    {
      "cell_type": "code",
      "metadata": {
        "colab": {
          "base_uri": "https://localhost:8080/"
        },
        "id": "p-OKA2n4T7F9",
        "outputId": "ed5b1b6c-1cbd-41d5-efa4-431be75ec6f0"
      },
      "source": [
        "# Get the first 2 elements of each dimension\n",
        "rank_4_tensor[:2, :2, :2, :2]"
      ],
      "execution_count": 49,
      "outputs": [
        {
          "output_type": "execute_result",
          "data": {
            "text/plain": [
              "<tf.Tensor: shape=(2, 2, 2, 2), dtype=float32, numpy=\n",
              "array([[[[0., 0.],\n",
              "         [0., 0.]],\n",
              "\n",
              "        [[0., 0.],\n",
              "         [0., 0.]]],\n",
              "\n",
              "\n",
              "       [[[0., 0.],\n",
              "         [0., 0.]],\n",
              "\n",
              "        [[0., 0.],\n",
              "         [0., 0.]]]], dtype=float32)>"
            ]
          },
          "metadata": {
            "tags": []
          },
          "execution_count": 49
        }
      ]
    },
    {
      "cell_type": "code",
      "metadata": {
        "colab": {
          "base_uri": "https://localhost:8080/"
        },
        "id": "hosTfRCCUttf",
        "outputId": "439a9dfe-ecc0-457a-bd48-22b82b16e907"
      },
      "source": [
        "rank_4_tensor.shape"
      ],
      "execution_count": 55,
      "outputs": [
        {
          "output_type": "execute_result",
          "data": {
            "text/plain": [
              "TensorShape([2, 3, 4, 5])"
            ]
          },
          "metadata": {
            "tags": []
          },
          "execution_count": 55
        }
      ]
    },
    {
      "cell_type": "code",
      "metadata": {
        "colab": {
          "base_uri": "https://localhost:8080/"
        },
        "id": "2cyS0kMjUKdk",
        "outputId": "fb916b01-f1c8-42d4-8cf2-b80340ff9c98"
      },
      "source": [
        "# Get the first element from each dimension from each index except for the final one\n",
        "rank_4_tensor[:1, :1, :1, :1]"
      ],
      "execution_count": 54,
      "outputs": [
        {
          "output_type": "execute_result",
          "data": {
            "text/plain": [
              "<tf.Tensor: shape=(1, 1, 1, 1), dtype=float32, numpy=array([[[[0.]]]], dtype=float32)>"
            ]
          },
          "metadata": {
            "tags": []
          },
          "execution_count": 54
        }
      ]
    },
    {
      "cell_type": "code",
      "metadata": {
        "colab": {
          "base_uri": "https://localhost:8080/"
        },
        "id": "r5vPnlcZVGCp",
        "outputId": "d01cf1ff-1d2a-4fac-89e1-b43a1dc1e6ca"
      },
      "source": [
        "# Create a rank 2 tensor (2 dimensions)\n",
        "rank_2_tensor = tf.constant([[10, 7],\n",
        "                             [3, 4]])\n",
        "\n",
        "rank_2_tensor.shape, rank_2_tensor.ndim"
      ],
      "execution_count": 56,
      "outputs": [
        {
          "output_type": "execute_result",
          "data": {
            "text/plain": [
              "(TensorShape([2, 2]), 2)"
            ]
          },
          "metadata": {
            "tags": []
          },
          "execution_count": 56
        }
      ]
    },
    {
      "cell_type": "code",
      "metadata": {
        "colab": {
          "base_uri": "https://localhost:8080/"
        },
        "id": "rZ1_fiShVa0v",
        "outputId": "3ec0c6f6-8fd2-4837-e86c-5a2bd6bfb761"
      },
      "source": [
        "# Get the last item of each of row of our rank 2 tensor\n",
        "rank_2_tensor[:, -1]"
      ],
      "execution_count": 57,
      "outputs": [
        {
          "output_type": "execute_result",
          "data": {
            "text/plain": [
              "<tf.Tensor: shape=(2,), dtype=int32, numpy=array([7, 4], dtype=int32)>"
            ]
          },
          "metadata": {
            "tags": []
          },
          "execution_count": 57
        }
      ]
    },
    {
      "cell_type": "code",
      "metadata": {
        "colab": {
          "base_uri": "https://localhost:8080/"
        },
        "id": "FKptI8SMWIWo",
        "outputId": "eefcccff-086b-4c02-cfd9-757e182f9f32"
      },
      "source": [
        "rank_2_tensor"
      ],
      "execution_count": 59,
      "outputs": [
        {
          "output_type": "execute_result",
          "data": {
            "text/plain": [
              "<tf.Tensor: shape=(2, 2), dtype=int32, numpy=\n",
              "array([[10,  7],\n",
              "       [ 3,  4]], dtype=int32)>"
            ]
          },
          "metadata": {
            "tags": []
          },
          "execution_count": 59
        }
      ]
    },
    {
      "cell_type": "code",
      "metadata": {
        "colab": {
          "base_uri": "https://localhost:8080/"
        },
        "id": "_TxVTFGlVsOJ",
        "outputId": "27fce464-84aa-470e-93ef-d554ef38d9e6"
      },
      "source": [
        "# Add in extra dimension to our rank 2 tensor\n",
        "rank_3_tensor = rank_2_tensor[..., tf.newaxis]\n",
        "rank_3_tensor"
      ],
      "execution_count": 58,
      "outputs": [
        {
          "output_type": "execute_result",
          "data": {
            "text/plain": [
              "<tf.Tensor: shape=(2, 2, 1), dtype=int32, numpy=\n",
              "array([[[10],\n",
              "        [ 7]],\n",
              "\n",
              "       [[ 3],\n",
              "        [ 4]]], dtype=int32)>"
            ]
          },
          "metadata": {
            "tags": []
          },
          "execution_count": 58
        }
      ]
    },
    {
      "cell_type": "code",
      "metadata": {
        "colab": {
          "base_uri": "https://localhost:8080/"
        },
        "id": "UW86sipMV7rl",
        "outputId": "a8b3ba98-8eec-4511-ba96-4d509de0abb1"
      },
      "source": [
        "# Alternative to tf.newaxis\n",
        "tf.expand_dims(rank_2_tensor, axis=-1) # \"-1\" means expand the final axis"
      ],
      "execution_count": 60,
      "outputs": [
        {
          "output_type": "execute_result",
          "data": {
            "text/plain": [
              "<tf.Tensor: shape=(2, 2, 1), dtype=int32, numpy=\n",
              "array([[[10],\n",
              "        [ 7]],\n",
              "\n",
              "       [[ 3],\n",
              "        [ 4]]], dtype=int32)>"
            ]
          },
          "metadata": {
            "tags": []
          },
          "execution_count": 60
        }
      ]
    },
    {
      "cell_type": "code",
      "metadata": {
        "colab": {
          "base_uri": "https://localhost:8080/"
        },
        "id": "LUrS1bq3WhZQ",
        "outputId": "aec28bcb-bdf3-4a86-ddc6-4289924d61f2"
      },
      "source": [
        "# Expand the 0-axis\n",
        "tf.expand_dims(rank_2_tensor, axis=0) # \"0\" means expand the 0-axis"
      ],
      "execution_count": 61,
      "outputs": [
        {
          "output_type": "execute_result",
          "data": {
            "text/plain": [
              "<tf.Tensor: shape=(1, 2, 2), dtype=int32, numpy=\n",
              "array([[[10,  7],\n",
              "        [ 3,  4]]], dtype=int32)>"
            ]
          },
          "metadata": {
            "tags": []
          },
          "execution_count": 61
        }
      ]
    },
    {
      "cell_type": "code",
      "metadata": {
        "colab": {
          "base_uri": "https://localhost:8080/"
        },
        "id": "Zcrz66rwWx2w",
        "outputId": "464ae178-deb4-427b-c1ff-89d22caa53c1"
      },
      "source": [
        "rank_2_tensor"
      ],
      "execution_count": 62,
      "outputs": [
        {
          "output_type": "execute_result",
          "data": {
            "text/plain": [
              "<tf.Tensor: shape=(2, 2), dtype=int32, numpy=\n",
              "array([[10,  7],\n",
              "       [ 3,  4]], dtype=int32)>"
            ]
          },
          "metadata": {
            "tags": []
          },
          "execution_count": 62
        }
      ]
    },
    {
      "cell_type": "markdown",
      "metadata": {
        "id": "wPWeCzsrW8Z2"
      },
      "source": [
        "### Manipulating tensors (tensor operations)\n",
        "\n",
        "**Basic operations**\n",
        "\n",
        "`+`, `-`, `*`, `/`"
      ]
    },
    {
      "cell_type": "code",
      "metadata": {
        "colab": {
          "base_uri": "https://localhost:8080/"
        },
        "id": "vXpcMFRCXKyl",
        "outputId": "3b701b22-8616-46b1-d14b-cfd2b0f820d6"
      },
      "source": [
        "# You can add values to a tensor using the addition operator\n",
        "tensor = tf.constant([[10, 7], [3, 4]])\n",
        "tensor + 10"
      ],
      "execution_count": 63,
      "outputs": [
        {
          "output_type": "execute_result",
          "data": {
            "text/plain": [
              "<tf.Tensor: shape=(2, 2), dtype=int32, numpy=\n",
              "array([[20, 17],\n",
              "       [13, 14]], dtype=int32)>"
            ]
          },
          "metadata": {
            "tags": []
          },
          "execution_count": 63
        }
      ]
    },
    {
      "cell_type": "code",
      "metadata": {
        "colab": {
          "base_uri": "https://localhost:8080/"
        },
        "id": "f4CSe2HGX2rJ",
        "outputId": "c7cb1f79-c3ec-4004-b27c-b50328430b71"
      },
      "source": [
        "# Original tensor is unchanged\n",
        "tensor"
      ],
      "execution_count": 64,
      "outputs": [
        {
          "output_type": "execute_result",
          "data": {
            "text/plain": [
              "<tf.Tensor: shape=(2, 2), dtype=int32, numpy=\n",
              "array([[10,  7],\n",
              "       [ 3,  4]], dtype=int32)>"
            ]
          },
          "metadata": {
            "tags": []
          },
          "execution_count": 64
        }
      ]
    },
    {
      "cell_type": "code",
      "metadata": {
        "colab": {
          "base_uri": "https://localhost:8080/"
        },
        "id": "3rAPadMdX8kc",
        "outputId": "49828419-85da-4b02-ec2b-fd06f2fe0bef"
      },
      "source": [
        "# Multiplication\n",
        "tensor * 10"
      ],
      "execution_count": 65,
      "outputs": [
        {
          "output_type": "execute_result",
          "data": {
            "text/plain": [
              "<tf.Tensor: shape=(2, 2), dtype=int32, numpy=\n",
              "array([[100,  70],\n",
              "       [ 30,  40]], dtype=int32)>"
            ]
          },
          "metadata": {
            "tags": []
          },
          "execution_count": 65
        }
      ]
    },
    {
      "cell_type": "code",
      "metadata": {
        "colab": {
          "base_uri": "https://localhost:8080/"
        },
        "id": "6O8c0J2nYI_8",
        "outputId": "f50a0061-26a6-4171-aafd-8431be4689e2"
      },
      "source": [
        "# Substraction\n",
        "tensor - 10"
      ],
      "execution_count": 66,
      "outputs": [
        {
          "output_type": "execute_result",
          "data": {
            "text/plain": [
              "<tf.Tensor: shape=(2, 2), dtype=int32, numpy=\n",
              "array([[ 0, -3],\n",
              "       [-7, -6]], dtype=int32)>"
            ]
          },
          "metadata": {
            "tags": []
          },
          "execution_count": 66
        }
      ]
    },
    {
      "cell_type": "code",
      "metadata": {
        "colab": {
          "base_uri": "https://localhost:8080/"
        },
        "id": "7eLfX4UvYL3_",
        "outputId": "2dd83c89-bad5-4026-8c80-538e1938b32b"
      },
      "source": [
        "# We can use the tensorflow built-in function too\n",
        "tf.multiply(tensor, 10)"
      ],
      "execution_count": 67,
      "outputs": [
        {
          "output_type": "execute_result",
          "data": {
            "text/plain": [
              "<tf.Tensor: shape=(2, 2), dtype=int32, numpy=\n",
              "array([[100,  70],\n",
              "       [ 30,  40]], dtype=int32)>"
            ]
          },
          "metadata": {
            "tags": []
          },
          "execution_count": 67
        }
      ]
    },
    {
      "cell_type": "markdown",
      "metadata": {
        "id": "f7buW-lOYcMk"
      },
      "source": [
        "**Matrix multiplication**\n",
        "\n",
        "In machine learning, matrix multiplication is one of the most common tensor operations.\n",
        "\n",
        "There are two rules our tensors (or matrics) need to fulfil if We're going to matrix multiply them:\n",
        "\n",
        "1. The inner dimensions must match\n",
        "2. The resulting matrix has the shape of the outer dimensions\n",
        "\n",
        "\n",
        "![image.png](data:image/png;base64,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)"
      ]
    },
    {
      "cell_type": "code",
      "metadata": {
        "colab": {
          "base_uri": "https://localhost:8080/"
        },
        "id": "VFMuM9JZasUT",
        "outputId": "09f7469c-9402-48a6-b827-13ad35044d22"
      },
      "source": [
        "tensor"
      ],
      "execution_count": 72,
      "outputs": [
        {
          "output_type": "execute_result",
          "data": {
            "text/plain": [
              "<tf.Tensor: shape=(2, 2), dtype=int32, numpy=\n",
              "array([[10,  7],\n",
              "       [ 3,  4]], dtype=int32)>"
            ]
          },
          "metadata": {
            "tags": []
          },
          "execution_count": 72
        }
      ]
    },
    {
      "cell_type": "code",
      "metadata": {
        "colab": {
          "base_uri": "https://localhost:8080/"
        },
        "id": "MYrGFFKeZTi7",
        "outputId": "0fb313a4-a884-4d66-cd9a-5d0444432ebd"
      },
      "source": [
        "# Matrix multiplication in tensorflow\n",
        "print(tensor)\n",
        "tf.matmul(tensor, tensor)"
      ],
      "execution_count": 70,
      "outputs": [
        {
          "output_type": "stream",
          "text": [
            "tf.Tensor(\n",
            "[[10  7]\n",
            " [ 3  4]], shape=(2, 2), dtype=int32)\n"
          ],
          "name": "stdout"
        },
        {
          "output_type": "execute_result",
          "data": {
            "text/plain": [
              "<tf.Tensor: shape=(2, 2), dtype=int32, numpy=\n",
              "array([[121,  98],\n",
              "       [ 42,  37]], dtype=int32)>"
            ]
          },
          "metadata": {
            "tags": []
          },
          "execution_count": 70
        }
      ]
    },
    {
      "cell_type": "code",
      "metadata": {
        "colab": {
          "base_uri": "https://localhost:8080/"
        },
        "id": "JTcq-npkapPi",
        "outputId": "fc27444f-5c03-4b43-bf0d-da4d23066065"
      },
      "source": [
        "tensor * tensor"
      ],
      "execution_count": 71,
      "outputs": [
        {
          "output_type": "execute_result",
          "data": {
            "text/plain": [
              "<tf.Tensor: shape=(2, 2), dtype=int32, numpy=\n",
              "array([[100,  49],\n",
              "       [  9,  16]], dtype=int32)>"
            ]
          },
          "metadata": {
            "tags": []
          },
          "execution_count": 71
        }
      ]
    },
    {
      "cell_type": "code",
      "metadata": {
        "colab": {
          "base_uri": "https://localhost:8080/"
        },
        "id": "T672rZ9iaeTR",
        "outputId": "09a182bb-b263-4b0d-9332-9ac9dd4f5d51"
      },
      "source": [
        "# Matrix mutiplication with python operator \"@\"\n",
        "tensor @ tensor"
      ],
      "execution_count": 73,
      "outputs": [
        {
          "output_type": "execute_result",
          "data": {
            "text/plain": [
              "<tf.Tensor: shape=(2, 2), dtype=int32, numpy=\n",
              "array([[121,  98],\n",
              "       [ 42,  37]], dtype=int32)>"
            ]
          },
          "metadata": {
            "tags": []
          },
          "execution_count": 73
        }
      ]
    },
    {
      "cell_type": "code",
      "metadata": {
        "colab": {
          "base_uri": "https://localhost:8080/"
        },
        "id": "KjejpbwrbAXV",
        "outputId": "6c04a26c-996c-4b85-e021-0136bcac5248"
      },
      "source": [
        "tensor.shape"
      ],
      "execution_count": 74,
      "outputs": [
        {
          "output_type": "execute_result",
          "data": {
            "text/plain": [
              "TensorShape([2, 2])"
            ]
          },
          "metadata": {
            "tags": []
          },
          "execution_count": 74
        }
      ]
    },
    {
      "cell_type": "code",
      "metadata": {
        "colab": {
          "base_uri": "https://localhost:8080/"
        },
        "id": "BDAmgSnjbGFS",
        "outputId": "86a66cee-e09c-4766-ab34-95b0bb1bf818"
      },
      "source": [
        "# Create a tensor (3, 2) tensor\n",
        "X = tf.constant([[1, 2],\n",
        "                 [3, 4],\n",
        "                 [5, 6]])\n",
        "# Create another (3, 2) tensor\n",
        "Y = tf.constant([[7, 8],\n",
        "                 [9, 10],\n",
        "                 [11, 12]])\n",
        "\n",
        "X, Y"
      ],
      "execution_count": 75,
      "outputs": [
        {
          "output_type": "execute_result",
          "data": {
            "text/plain": [
              "(<tf.Tensor: shape=(3, 2), dtype=int32, numpy=\n",
              " array([[1, 2],\n",
              "        [3, 4],\n",
              "        [5, 6]], dtype=int32)>, <tf.Tensor: shape=(3, 2), dtype=int32, numpy=\n",
              " array([[ 7,  8],\n",
              "        [ 9, 10],\n",
              "        [11, 12]], dtype=int32)>)"
            ]
          },
          "metadata": {
            "tags": []
          },
          "execution_count": 75
        }
      ]
    },
    {
      "cell_type": "code",
      "metadata": {
        "colab": {
          "base_uri": "https://localhost:8080/",
          "height": 239
        },
        "id": "37NaK0ytbjEj",
        "outputId": "e6ffd1c4-1721-44e3-e392-ad92d2a446b5"
      },
      "source": [
        "# Try to matrix multipy tensors of same shape\n",
        "tf.matmul(X, Y)"
      ],
      "execution_count": 76,
      "outputs": [
        {
          "output_type": "error",
          "ename": "InvalidArgumentError",
          "evalue": "ignored",
          "traceback": [
            "\u001b[0;31m---------------------------------------------------------------------------\u001b[0m",
            "\u001b[0;31mInvalidArgumentError\u001b[0m                      Traceback (most recent call last)",
            "\u001b[0;32m<ipython-input-76-e6e49cdb92a4>\u001b[0m in \u001b[0;36m<module>\u001b[0;34m()\u001b[0m\n\u001b[1;32m      1\u001b[0m \u001b[0;31m# Try to matrix multipy tensors of same shape\u001b[0m\u001b[0;34m\u001b[0m\u001b[0;34m\u001b[0m\u001b[0;34m\u001b[0m\u001b[0m\n\u001b[0;32m----> 2\u001b[0;31m \u001b[0mtf\u001b[0m\u001b[0;34m.\u001b[0m\u001b[0mmatmul\u001b[0m\u001b[0;34m(\u001b[0m\u001b[0mX\u001b[0m\u001b[0;34m,\u001b[0m \u001b[0mY\u001b[0m\u001b[0;34m)\u001b[0m\u001b[0;34m\u001b[0m\u001b[0;34m\u001b[0m\u001b[0m\n\u001b[0m",
            "\u001b[0;32m/usr/local/lib/python3.7/dist-packages/tensorflow/python/util/dispatch.py\u001b[0m in \u001b[0;36mwrapper\u001b[0;34m(*args, **kwargs)\u001b[0m\n\u001b[1;32m    204\u001b[0m     \u001b[0;34m\"\"\"Call target, and fall back on dispatchers if there is a TypeError.\"\"\"\u001b[0m\u001b[0;34m\u001b[0m\u001b[0;34m\u001b[0m\u001b[0m\n\u001b[1;32m    205\u001b[0m     \u001b[0;32mtry\u001b[0m\u001b[0;34m:\u001b[0m\u001b[0;34m\u001b[0m\u001b[0;34m\u001b[0m\u001b[0m\n\u001b[0;32m--> 206\u001b[0;31m       \u001b[0;32mreturn\u001b[0m \u001b[0mtarget\u001b[0m\u001b[0;34m(\u001b[0m\u001b[0;34m*\u001b[0m\u001b[0margs\u001b[0m\u001b[0;34m,\u001b[0m \u001b[0;34m**\u001b[0m\u001b[0mkwargs\u001b[0m\u001b[0;34m)\u001b[0m\u001b[0;34m\u001b[0m\u001b[0;34m\u001b[0m\u001b[0m\n\u001b[0m\u001b[1;32m    207\u001b[0m     \u001b[0;32mexcept\u001b[0m \u001b[0;34m(\u001b[0m\u001b[0mTypeError\u001b[0m\u001b[0;34m,\u001b[0m \u001b[0mValueError\u001b[0m\u001b[0;34m)\u001b[0m\u001b[0;34m:\u001b[0m\u001b[0;34m\u001b[0m\u001b[0;34m\u001b[0m\u001b[0m\n\u001b[1;32m    208\u001b[0m       \u001b[0;31m# Note: convert_to_eager_tensor currently raises a ValueError, not a\u001b[0m\u001b[0;34m\u001b[0m\u001b[0;34m\u001b[0m\u001b[0;34m\u001b[0m\u001b[0m\n",
            "\u001b[0;32m/usr/local/lib/python3.7/dist-packages/tensorflow/python/ops/math_ops.py\u001b[0m in \u001b[0;36mmatmul\u001b[0;34m(a, b, transpose_a, transpose_b, adjoint_a, adjoint_b, a_is_sparse, b_is_sparse, name)\u001b[0m\n\u001b[1;32m   3488\u001b[0m     \u001b[0;32melse\u001b[0m\u001b[0;34m:\u001b[0m\u001b[0;34m\u001b[0m\u001b[0;34m\u001b[0m\u001b[0m\n\u001b[1;32m   3489\u001b[0m       return gen_math_ops.mat_mul(\n\u001b[0;32m-> 3490\u001b[0;31m           a, b, transpose_a=transpose_a, transpose_b=transpose_b, name=name)\n\u001b[0m\u001b[1;32m   3491\u001b[0m \u001b[0;34m\u001b[0m\u001b[0m\n\u001b[1;32m   3492\u001b[0m \u001b[0;34m\u001b[0m\u001b[0m\n",
            "\u001b[0;32m/usr/local/lib/python3.7/dist-packages/tensorflow/python/ops/gen_math_ops.py\u001b[0m in \u001b[0;36mmat_mul\u001b[0;34m(a, b, transpose_a, transpose_b, name)\u001b[0m\n\u001b[1;32m   5698\u001b[0m       \u001b[0;32mreturn\u001b[0m \u001b[0m_result\u001b[0m\u001b[0;34m\u001b[0m\u001b[0;34m\u001b[0m\u001b[0m\n\u001b[1;32m   5699\u001b[0m     \u001b[0;32mexcept\u001b[0m \u001b[0m_core\u001b[0m\u001b[0;34m.\u001b[0m\u001b[0m_NotOkStatusException\u001b[0m \u001b[0;32mas\u001b[0m \u001b[0me\u001b[0m\u001b[0;34m:\u001b[0m\u001b[0;34m\u001b[0m\u001b[0;34m\u001b[0m\u001b[0m\n\u001b[0;32m-> 5700\u001b[0;31m       \u001b[0m_ops\u001b[0m\u001b[0;34m.\u001b[0m\u001b[0mraise_from_not_ok_status\u001b[0m\u001b[0;34m(\u001b[0m\u001b[0me\u001b[0m\u001b[0;34m,\u001b[0m \u001b[0mname\u001b[0m\u001b[0;34m)\u001b[0m\u001b[0;34m\u001b[0m\u001b[0;34m\u001b[0m\u001b[0m\n\u001b[0m\u001b[1;32m   5701\u001b[0m     \u001b[0;32mexcept\u001b[0m \u001b[0m_core\u001b[0m\u001b[0;34m.\u001b[0m\u001b[0m_FallbackException\u001b[0m\u001b[0;34m:\u001b[0m\u001b[0;34m\u001b[0m\u001b[0;34m\u001b[0m\u001b[0m\n\u001b[1;32m   5702\u001b[0m       \u001b[0;32mpass\u001b[0m\u001b[0;34m\u001b[0m\u001b[0;34m\u001b[0m\u001b[0m\n",
            "\u001b[0;32m/usr/local/lib/python3.7/dist-packages/tensorflow/python/framework/ops.py\u001b[0m in \u001b[0;36mraise_from_not_ok_status\u001b[0;34m(e, name)\u001b[0m\n\u001b[1;32m   6895\u001b[0m   \u001b[0mmessage\u001b[0m \u001b[0;34m=\u001b[0m \u001b[0me\u001b[0m\u001b[0;34m.\u001b[0m\u001b[0mmessage\u001b[0m \u001b[0;34m+\u001b[0m \u001b[0;34m(\u001b[0m\u001b[0;34m\" name: \"\u001b[0m \u001b[0;34m+\u001b[0m \u001b[0mname\u001b[0m \u001b[0;32mif\u001b[0m \u001b[0mname\u001b[0m \u001b[0;32mis\u001b[0m \u001b[0;32mnot\u001b[0m \u001b[0;32mNone\u001b[0m \u001b[0;32melse\u001b[0m \u001b[0;34m\"\"\u001b[0m\u001b[0;34m)\u001b[0m\u001b[0;34m\u001b[0m\u001b[0;34m\u001b[0m\u001b[0m\n\u001b[1;32m   6896\u001b[0m   \u001b[0;31m# pylint: disable=protected-access\u001b[0m\u001b[0;34m\u001b[0m\u001b[0;34m\u001b[0m\u001b[0;34m\u001b[0m\u001b[0m\n\u001b[0;32m-> 6897\u001b[0;31m   \u001b[0msix\u001b[0m\u001b[0;34m.\u001b[0m\u001b[0mraise_from\u001b[0m\u001b[0;34m(\u001b[0m\u001b[0mcore\u001b[0m\u001b[0;34m.\u001b[0m\u001b[0m_status_to_exception\u001b[0m\u001b[0;34m(\u001b[0m\u001b[0me\u001b[0m\u001b[0;34m.\u001b[0m\u001b[0mcode\u001b[0m\u001b[0;34m,\u001b[0m \u001b[0mmessage\u001b[0m\u001b[0;34m)\u001b[0m\u001b[0;34m,\u001b[0m \u001b[0;32mNone\u001b[0m\u001b[0;34m)\u001b[0m\u001b[0;34m\u001b[0m\u001b[0;34m\u001b[0m\u001b[0m\n\u001b[0m\u001b[1;32m   6898\u001b[0m   \u001b[0;31m# pylint: enable=protected-access\u001b[0m\u001b[0;34m\u001b[0m\u001b[0;34m\u001b[0m\u001b[0;34m\u001b[0m\u001b[0m\n\u001b[1;32m   6899\u001b[0m \u001b[0;34m\u001b[0m\u001b[0m\n",
            "\u001b[0;32m/usr/local/lib/python3.7/dist-packages/six.py\u001b[0m in \u001b[0;36mraise_from\u001b[0;34m(value, from_value)\u001b[0m\n",
            "\u001b[0;31mInvalidArgumentError\u001b[0m: In[0] mismatch In[1] shape: 2 vs. 3: [3,2] [3,2] 0 0 [Op:MatMul]"
          ]
        }
      ]
    },
    {
      "cell_type": "code",
      "metadata": {
        "colab": {
          "base_uri": "https://localhost:8080/",
          "height": 239
        },
        "id": "pBmKKLHGbvIP",
        "outputId": "17fbcf49-f12a-4807-eed8-da6a6e636837"
      },
      "source": [
        "# Try to matrix multipy tensors of same shape\n",
        "X @ Y"
      ],
      "execution_count": 77,
      "outputs": [
        {
          "output_type": "error",
          "ename": "InvalidArgumentError",
          "evalue": "ignored",
          "traceback": [
            "\u001b[0;31m---------------------------------------------------------------------------\u001b[0m",
            "\u001b[0;31mInvalidArgumentError\u001b[0m                      Traceback (most recent call last)",
            "\u001b[0;32m<ipython-input-77-0a42583afe94>\u001b[0m in \u001b[0;36m<module>\u001b[0;34m()\u001b[0m\n\u001b[1;32m      1\u001b[0m \u001b[0;31m# Try to matrix multipy tensors of same shape\u001b[0m\u001b[0;34m\u001b[0m\u001b[0;34m\u001b[0m\u001b[0;34m\u001b[0m\u001b[0m\n\u001b[0;32m----> 2\u001b[0;31m \u001b[0mX\u001b[0m \u001b[0;34m@\u001b[0m \u001b[0mY\u001b[0m\u001b[0;34m\u001b[0m\u001b[0;34m\u001b[0m\u001b[0m\n\u001b[0m",
            "\u001b[0;32m/usr/local/lib/python3.7/dist-packages/tensorflow/python/ops/math_ops.py\u001b[0m in \u001b[0;36mbinary_op_wrapper\u001b[0;34m(x, y)\u001b[0m\n\u001b[1;32m   1232\u001b[0m         \u001b[0;31m#   r_binary_op_wrapper use different force_same_dtype values.\u001b[0m\u001b[0;34m\u001b[0m\u001b[0;34m\u001b[0m\u001b[0;34m\u001b[0m\u001b[0m\n\u001b[1;32m   1233\u001b[0m         \u001b[0mx\u001b[0m\u001b[0;34m,\u001b[0m \u001b[0my\u001b[0m \u001b[0;34m=\u001b[0m \u001b[0mmaybe_promote_tensors\u001b[0m\u001b[0;34m(\u001b[0m\u001b[0mx\u001b[0m\u001b[0;34m,\u001b[0m \u001b[0my\u001b[0m\u001b[0;34m,\u001b[0m \u001b[0mforce_same_dtype\u001b[0m\u001b[0;34m=\u001b[0m\u001b[0;32mFalse\u001b[0m\u001b[0;34m)\u001b[0m\u001b[0;34m\u001b[0m\u001b[0;34m\u001b[0m\u001b[0m\n\u001b[0;32m-> 1234\u001b[0;31m         \u001b[0;32mreturn\u001b[0m \u001b[0mfunc\u001b[0m\u001b[0;34m(\u001b[0m\u001b[0mx\u001b[0m\u001b[0;34m,\u001b[0m \u001b[0my\u001b[0m\u001b[0;34m,\u001b[0m \u001b[0mname\u001b[0m\u001b[0;34m=\u001b[0m\u001b[0mname\u001b[0m\u001b[0;34m)\u001b[0m\u001b[0;34m\u001b[0m\u001b[0;34m\u001b[0m\u001b[0m\n\u001b[0m\u001b[1;32m   1235\u001b[0m       \u001b[0;32mexcept\u001b[0m \u001b[0;34m(\u001b[0m\u001b[0mTypeError\u001b[0m\u001b[0;34m,\u001b[0m \u001b[0mValueError\u001b[0m\u001b[0;34m)\u001b[0m \u001b[0;32mas\u001b[0m \u001b[0me\u001b[0m\u001b[0;34m:\u001b[0m\u001b[0;34m\u001b[0m\u001b[0;34m\u001b[0m\u001b[0m\n\u001b[1;32m   1236\u001b[0m         \u001b[0;31m# Even if dispatching the op failed, the RHS may be a tensor aware\u001b[0m\u001b[0;34m\u001b[0m\u001b[0;34m\u001b[0m\u001b[0;34m\u001b[0m\u001b[0m\n",
            "\u001b[0;32m/usr/local/lib/python3.7/dist-packages/tensorflow/python/ops/math_ops.py\u001b[0m in \u001b[0;36mmatmul_wrapper\u001b[0;34m(a, b, name)\u001b[0m\n\u001b[1;32m   3596\u001b[0m   \u001b[0;32mif\u001b[0m \u001b[0mops\u001b[0m\u001b[0;34m.\u001b[0m\u001b[0m_numpy_style_type_promotion\u001b[0m\u001b[0;34m:\u001b[0m\u001b[0;34m\u001b[0m\u001b[0;34m\u001b[0m\u001b[0m\n\u001b[1;32m   3597\u001b[0m     \u001b[0;32mreturn\u001b[0m \u001b[0ma\u001b[0m\u001b[0;34m.\u001b[0m\u001b[0m_matmul\u001b[0m\u001b[0;34m(\u001b[0m\u001b[0mb\u001b[0m\u001b[0;34m)\u001b[0m\u001b[0;34m\u001b[0m\u001b[0;34m\u001b[0m\u001b[0m\n\u001b[0;32m-> 3598\u001b[0;31m   \u001b[0;32mreturn\u001b[0m \u001b[0mmatmul\u001b[0m\u001b[0;34m(\u001b[0m\u001b[0ma\u001b[0m\u001b[0;34m,\u001b[0m \u001b[0mb\u001b[0m\u001b[0;34m,\u001b[0m \u001b[0mname\u001b[0m\u001b[0;34m=\u001b[0m\u001b[0mname\u001b[0m\u001b[0;34m)\u001b[0m\u001b[0;34m\u001b[0m\u001b[0;34m\u001b[0m\u001b[0m\n\u001b[0m\u001b[1;32m   3599\u001b[0m \u001b[0mmatmul_wrapper\u001b[0m\u001b[0;34m.\u001b[0m\u001b[0m__doc__\u001b[0m \u001b[0;34m=\u001b[0m \u001b[0mmatmul\u001b[0m\u001b[0;34m.\u001b[0m\u001b[0m__doc__\u001b[0m\u001b[0;34m\u001b[0m\u001b[0;34m\u001b[0m\u001b[0m\n\u001b[1;32m   3600\u001b[0m \u001b[0m_OverrideBinaryOperatorHelper\u001b[0m\u001b[0;34m(\u001b[0m\u001b[0mmatmul_wrapper\u001b[0m\u001b[0;34m,\u001b[0m \u001b[0;34m\"matmul\"\u001b[0m\u001b[0;34m)\u001b[0m\u001b[0;34m\u001b[0m\u001b[0;34m\u001b[0m\u001b[0m\n",
            "\u001b[0;32m/usr/local/lib/python3.7/dist-packages/tensorflow/python/util/dispatch.py\u001b[0m in \u001b[0;36mwrapper\u001b[0;34m(*args, **kwargs)\u001b[0m\n\u001b[1;32m    204\u001b[0m     \u001b[0;34m\"\"\"Call target, and fall back on dispatchers if there is a TypeError.\"\"\"\u001b[0m\u001b[0;34m\u001b[0m\u001b[0;34m\u001b[0m\u001b[0m\n\u001b[1;32m    205\u001b[0m     \u001b[0;32mtry\u001b[0m\u001b[0;34m:\u001b[0m\u001b[0;34m\u001b[0m\u001b[0;34m\u001b[0m\u001b[0m\n\u001b[0;32m--> 206\u001b[0;31m       \u001b[0;32mreturn\u001b[0m \u001b[0mtarget\u001b[0m\u001b[0;34m(\u001b[0m\u001b[0;34m*\u001b[0m\u001b[0margs\u001b[0m\u001b[0;34m,\u001b[0m \u001b[0;34m**\u001b[0m\u001b[0mkwargs\u001b[0m\u001b[0;34m)\u001b[0m\u001b[0;34m\u001b[0m\u001b[0;34m\u001b[0m\u001b[0m\n\u001b[0m\u001b[1;32m    207\u001b[0m     \u001b[0;32mexcept\u001b[0m \u001b[0;34m(\u001b[0m\u001b[0mTypeError\u001b[0m\u001b[0;34m,\u001b[0m \u001b[0mValueError\u001b[0m\u001b[0;34m)\u001b[0m\u001b[0;34m:\u001b[0m\u001b[0;34m\u001b[0m\u001b[0;34m\u001b[0m\u001b[0m\n\u001b[1;32m    208\u001b[0m       \u001b[0;31m# Note: convert_to_eager_tensor currently raises a ValueError, not a\u001b[0m\u001b[0;34m\u001b[0m\u001b[0;34m\u001b[0m\u001b[0;34m\u001b[0m\u001b[0m\n",
            "\u001b[0;32m/usr/local/lib/python3.7/dist-packages/tensorflow/python/ops/math_ops.py\u001b[0m in \u001b[0;36mmatmul\u001b[0;34m(a, b, transpose_a, transpose_b, adjoint_a, adjoint_b, a_is_sparse, b_is_sparse, name)\u001b[0m\n\u001b[1;32m   3488\u001b[0m     \u001b[0;32melse\u001b[0m\u001b[0;34m:\u001b[0m\u001b[0;34m\u001b[0m\u001b[0;34m\u001b[0m\u001b[0m\n\u001b[1;32m   3489\u001b[0m       return gen_math_ops.mat_mul(\n\u001b[0;32m-> 3490\u001b[0;31m           a, b, transpose_a=transpose_a, transpose_b=transpose_b, name=name)\n\u001b[0m\u001b[1;32m   3491\u001b[0m \u001b[0;34m\u001b[0m\u001b[0m\n\u001b[1;32m   3492\u001b[0m \u001b[0;34m\u001b[0m\u001b[0m\n",
            "\u001b[0;32m/usr/local/lib/python3.7/dist-packages/tensorflow/python/ops/gen_math_ops.py\u001b[0m in \u001b[0;36mmat_mul\u001b[0;34m(a, b, transpose_a, transpose_b, name)\u001b[0m\n\u001b[1;32m   5698\u001b[0m       \u001b[0;32mreturn\u001b[0m \u001b[0m_result\u001b[0m\u001b[0;34m\u001b[0m\u001b[0;34m\u001b[0m\u001b[0m\n\u001b[1;32m   5699\u001b[0m     \u001b[0;32mexcept\u001b[0m \u001b[0m_core\u001b[0m\u001b[0;34m.\u001b[0m\u001b[0m_NotOkStatusException\u001b[0m \u001b[0;32mas\u001b[0m \u001b[0me\u001b[0m\u001b[0;34m:\u001b[0m\u001b[0;34m\u001b[0m\u001b[0;34m\u001b[0m\u001b[0m\n\u001b[0;32m-> 5700\u001b[0;31m       \u001b[0m_ops\u001b[0m\u001b[0;34m.\u001b[0m\u001b[0mraise_from_not_ok_status\u001b[0m\u001b[0;34m(\u001b[0m\u001b[0me\u001b[0m\u001b[0;34m,\u001b[0m \u001b[0mname\u001b[0m\u001b[0;34m)\u001b[0m\u001b[0;34m\u001b[0m\u001b[0;34m\u001b[0m\u001b[0m\n\u001b[0m\u001b[1;32m   5701\u001b[0m     \u001b[0;32mexcept\u001b[0m \u001b[0m_core\u001b[0m\u001b[0;34m.\u001b[0m\u001b[0m_FallbackException\u001b[0m\u001b[0;34m:\u001b[0m\u001b[0;34m\u001b[0m\u001b[0;34m\u001b[0m\u001b[0m\n\u001b[1;32m   5702\u001b[0m       \u001b[0;32mpass\u001b[0m\u001b[0;34m\u001b[0m\u001b[0;34m\u001b[0m\u001b[0m\n",
            "\u001b[0;32m/usr/local/lib/python3.7/dist-packages/tensorflow/python/framework/ops.py\u001b[0m in \u001b[0;36mraise_from_not_ok_status\u001b[0;34m(e, name)\u001b[0m\n\u001b[1;32m   6895\u001b[0m   \u001b[0mmessage\u001b[0m \u001b[0;34m=\u001b[0m \u001b[0me\u001b[0m\u001b[0;34m.\u001b[0m\u001b[0mmessage\u001b[0m \u001b[0;34m+\u001b[0m \u001b[0;34m(\u001b[0m\u001b[0;34m\" name: \"\u001b[0m \u001b[0;34m+\u001b[0m \u001b[0mname\u001b[0m \u001b[0;32mif\u001b[0m \u001b[0mname\u001b[0m \u001b[0;32mis\u001b[0m \u001b[0;32mnot\u001b[0m \u001b[0;32mNone\u001b[0m \u001b[0;32melse\u001b[0m \u001b[0;34m\"\"\u001b[0m\u001b[0;34m)\u001b[0m\u001b[0;34m\u001b[0m\u001b[0;34m\u001b[0m\u001b[0m\n\u001b[1;32m   6896\u001b[0m   \u001b[0;31m# pylint: disable=protected-access\u001b[0m\u001b[0;34m\u001b[0m\u001b[0;34m\u001b[0m\u001b[0;34m\u001b[0m\u001b[0m\n\u001b[0;32m-> 6897\u001b[0;31m   \u001b[0msix\u001b[0m\u001b[0;34m.\u001b[0m\u001b[0mraise_from\u001b[0m\u001b[0;34m(\u001b[0m\u001b[0mcore\u001b[0m\u001b[0;34m.\u001b[0m\u001b[0m_status_to_exception\u001b[0m\u001b[0;34m(\u001b[0m\u001b[0me\u001b[0m\u001b[0;34m.\u001b[0m\u001b[0mcode\u001b[0m\u001b[0;34m,\u001b[0m \u001b[0mmessage\u001b[0m\u001b[0;34m)\u001b[0m\u001b[0;34m,\u001b[0m \u001b[0;32mNone\u001b[0m\u001b[0;34m)\u001b[0m\u001b[0;34m\u001b[0m\u001b[0;34m\u001b[0m\u001b[0m\n\u001b[0m\u001b[1;32m   6898\u001b[0m   \u001b[0;31m# pylint: enable=protected-access\u001b[0m\u001b[0;34m\u001b[0m\u001b[0;34m\u001b[0m\u001b[0;34m\u001b[0m\u001b[0m\n\u001b[1;32m   6899\u001b[0m \u001b[0;34m\u001b[0m\u001b[0m\n",
            "\u001b[0;32m/usr/local/lib/python3.7/dist-packages/six.py\u001b[0m in \u001b[0;36mraise_from\u001b[0;34m(value, from_value)\u001b[0m\n",
            "\u001b[0;31mInvalidArgumentError\u001b[0m: In[0] mismatch In[1] shape: 2 vs. 3: [3,2] [3,2] 0 0 [Op:MatMul]"
          ]
        }
      ]
    },
    {
      "cell_type": "markdown",
      "metadata": {
        "id": "RdRHSJ1HbzML"
      },
      "source": [
        "📚 **Resource:** Info and example of matrix multiplication: https://mathsisfun.com/algebra/matrix-multiplying.html"
      ]
    },
    {
      "cell_type": "code",
      "metadata": {
        "colab": {
          "base_uri": "https://localhost:8080/"
        },
        "id": "OzwBxwoOerk_",
        "outputId": "331573dc-9d5d-4afb-ba43-ef0471a893af"
      },
      "source": [
        "Y"
      ],
      "execution_count": 79,
      "outputs": [
        {
          "output_type": "execute_result",
          "data": {
            "text/plain": [
              "<tf.Tensor: shape=(3, 2), dtype=int32, numpy=\n",
              "array([[ 7,  8],\n",
              "       [ 9, 10],\n",
              "       [11, 12]], dtype=int32)>"
            ]
          },
          "metadata": {
            "tags": []
          },
          "execution_count": 79
        }
      ]
    },
    {
      "cell_type": "code",
      "metadata": {
        "colab": {
          "base_uri": "https://localhost:8080/"
        },
        "id": "qfeZvM-jcf6M",
        "outputId": "27e71f27-dc9b-49e1-eb1a-cf212ae2cd34"
      },
      "source": [
        "# Let's change the shape of Y\n",
        "tf.reshape(Y, shape=(2, 3))"
      ],
      "execution_count": 80,
      "outputs": [
        {
          "output_type": "execute_result",
          "data": {
            "text/plain": [
              "<tf.Tensor: shape=(2, 3), dtype=int32, numpy=\n",
              "array([[ 7,  8,  9],\n",
              "       [10, 11, 12]], dtype=int32)>"
            ]
          },
          "metadata": {
            "tags": []
          },
          "execution_count": 80
        }
      ]
    },
    {
      "cell_type": "code",
      "metadata": {
        "colab": {
          "base_uri": "https://localhost:8080/"
        },
        "id": "nA6i2lkRe-oZ",
        "outputId": "043f400d-5b86-4895-f0a7-99d06e511203"
      },
      "source": [
        "X.shape, tf.reshape(Y, shape=(2, 3)).shape"
      ],
      "execution_count": 81,
      "outputs": [
        {
          "output_type": "execute_result",
          "data": {
            "text/plain": [
              "(TensorShape([3, 2]), TensorShape([2, 3]))"
            ]
          },
          "metadata": {
            "tags": []
          },
          "execution_count": 81
        }
      ]
    },
    {
      "cell_type": "code",
      "metadata": {
        "colab": {
          "base_uri": "https://localhost:8080/"
        },
        "id": "ztUIclm3ey_z",
        "outputId": "75b6bf51-1b84-4250-b2c8-0a845b77d059"
      },
      "source": [
        "# Try to matrix multiply X by reshaped Y\n",
        "X @ tf.reshape(Y, shape=(2, 3))"
      ],
      "execution_count": 83,
      "outputs": [
        {
          "output_type": "execute_result",
          "data": {
            "text/plain": [
              "<tf.Tensor: shape=(3, 3), dtype=int32, numpy=\n",
              "array([[ 27,  30,  33],\n",
              "       [ 61,  68,  75],\n",
              "       [ 95, 106, 117]], dtype=int32)>"
            ]
          },
          "metadata": {
            "tags": []
          },
          "execution_count": 83
        }
      ]
    },
    {
      "cell_type": "code",
      "metadata": {
        "colab": {
          "base_uri": "https://localhost:8080/"
        },
        "id": "5HPVwefPfWv6",
        "outputId": "740d4fa4-1f67-48c5-e4d5-91a20bf94768"
      },
      "source": [
        "tf.matmul(X, tf.reshape(Y, shape=(2, 3)))"
      ],
      "execution_count": 84,
      "outputs": [
        {
          "output_type": "execute_result",
          "data": {
            "text/plain": [
              "<tf.Tensor: shape=(3, 3), dtype=int32, numpy=\n",
              "array([[ 27,  30,  33],\n",
              "       [ 61,  68,  75],\n",
              "       [ 95, 106, 117]], dtype=int32)>"
            ]
          },
          "metadata": {
            "tags": []
          },
          "execution_count": 84
        }
      ]
    },
    {
      "cell_type": "code",
      "metadata": {
        "colab": {
          "base_uri": "https://localhost:8080/"
        },
        "id": "zDMAoHhhfiXZ",
        "outputId": "9278f663-60bb-483b-9146-09303b207754"
      },
      "source": [
        "# Try change the shape of X instead of Y\n",
        "tf.matmul(tf.reshape(X, shape=(2, 3)), Y)"
      ],
      "execution_count": 85,
      "outputs": [
        {
          "output_type": "execute_result",
          "data": {
            "text/plain": [
              "<tf.Tensor: shape=(2, 2), dtype=int32, numpy=\n",
              "array([[ 58,  64],\n",
              "       [139, 154]], dtype=int32)>"
            ]
          },
          "metadata": {
            "tags": []
          },
          "execution_count": 85
        }
      ]
    },
    {
      "cell_type": "code",
      "metadata": {
        "colab": {
          "base_uri": "https://localhost:8080/"
        },
        "id": "Pnk_4C1Bf3Vv",
        "outputId": "37282c79-9324-44af-f183-9883512932a4"
      },
      "source": [
        "tf.reshape(X, shape=(2, 3)).shape, Y.shape"
      ],
      "execution_count": 86,
      "outputs": [
        {
          "output_type": "execute_result",
          "data": {
            "text/plain": [
              "(TensorShape([2, 3]), TensorShape([3, 2]))"
            ]
          },
          "metadata": {
            "tags": []
          },
          "execution_count": 86
        }
      ]
    },
    {
      "cell_type": "code",
      "metadata": {
        "colab": {
          "base_uri": "https://localhost:8080/"
        },
        "id": "ct_MmF0zgLuQ",
        "outputId": "4f5d04c4-fc65-445b-afa6-56f994d78d00"
      },
      "source": [
        "# Can do the same with transpose\n",
        "X, tf.transpose(X), tf.reshape(X, shape=(2, 3))"
      ],
      "execution_count": 87,
      "outputs": [
        {
          "output_type": "execute_result",
          "data": {
            "text/plain": [
              "(<tf.Tensor: shape=(3, 2), dtype=int32, numpy=\n",
              " array([[1, 2],\n",
              "        [3, 4],\n",
              "        [5, 6]], dtype=int32)>, <tf.Tensor: shape=(2, 3), dtype=int32, numpy=\n",
              " array([[1, 3, 5],\n",
              "        [2, 4, 6]], dtype=int32)>, <tf.Tensor: shape=(2, 3), dtype=int32, numpy=\n",
              " array([[1, 2, 3],\n",
              "        [4, 5, 6]], dtype=int32)>)"
            ]
          },
          "metadata": {
            "tags": []
          },
          "execution_count": 87
        }
      ]
    },
    {
      "cell_type": "code",
      "metadata": {
        "colab": {
          "base_uri": "https://localhost:8080/"
        },
        "id": "I3-eaWZ5hGNJ",
        "outputId": "b1bb52ec-65a8-44a7-fe1d-3b0baeb9cebe"
      },
      "source": [
        "Y"
      ],
      "execution_count": 89,
      "outputs": [
        {
          "output_type": "execute_result",
          "data": {
            "text/plain": [
              "<tf.Tensor: shape=(3, 2), dtype=int32, numpy=\n",
              "array([[ 7,  8],\n",
              "       [ 9, 10],\n",
              "       [11, 12]], dtype=int32)>"
            ]
          },
          "metadata": {
            "tags": []
          },
          "execution_count": 89
        }
      ]
    },
    {
      "cell_type": "code",
      "metadata": {
        "colab": {
          "base_uri": "https://localhost:8080/"
        },
        "id": "c0YwgkF8gY2S",
        "outputId": "8a07ee73-ca8b-4214-926c-dce957858157"
      },
      "source": [
        "# Try matrix multiplication with transpose rather than reshape\n",
        "tf.matmul(tf.transpose(X), Y)"
      ],
      "execution_count": 88,
      "outputs": [
        {
          "output_type": "execute_result",
          "data": {
            "text/plain": [
              "<tf.Tensor: shape=(2, 2), dtype=int32, numpy=\n",
              "array([[ 89,  98],\n",
              "       [116, 128]], dtype=int32)>"
            ]
          },
          "metadata": {
            "tags": []
          },
          "execution_count": 88
        }
      ]
    },
    {
      "cell_type": "markdown",
      "metadata": {
        "id": "hJtltkzWg6SJ"
      },
      "source": [
        "**The Dot Product**\n",
        "\n",
        "Matrix multiplication is also referred to as the dot product.\n",
        "You can perform matrix multiplication using:\n",
        "* `tf.matmul()`\n",
        "* `tf.tensordot()`\n",
        "* `@`"
      ]
    },
    {
      "cell_type": "code",
      "metadata": {
        "colab": {
          "base_uri": "https://localhost:8080/"
        },
        "id": "P66TlEsFiJbQ",
        "outputId": "8912e0ee-bf8a-4d82-c827-0e4fd08ea5bc"
      },
      "source": [
        "X, Y"
      ],
      "execution_count": 90,
      "outputs": [
        {
          "output_type": "execute_result",
          "data": {
            "text/plain": [
              "(<tf.Tensor: shape=(3, 2), dtype=int32, numpy=\n",
              " array([[1, 2],\n",
              "        [3, 4],\n",
              "        [5, 6]], dtype=int32)>, <tf.Tensor: shape=(3, 2), dtype=int32, numpy=\n",
              " array([[ 7,  8],\n",
              "        [ 9, 10],\n",
              "        [11, 12]], dtype=int32)>)"
            ]
          },
          "metadata": {
            "tags": []
          },
          "execution_count": 90
        }
      ]
    },
    {
      "cell_type": "code",
      "metadata": {
        "colab": {
          "base_uri": "https://localhost:8080/"
        },
        "id": "-1Y4sFD2hdH1",
        "outputId": "ff9da000-59ac-49a1-a59b-0d984c41be54"
      },
      "source": [
        "# Perform the dot product on X and Y (requires X or Y to be transposed)\n",
        "tf.tensordot(tf.transpose(X), Y, axes=1)"
      ],
      "execution_count": 91,
      "outputs": [
        {
          "output_type": "execute_result",
          "data": {
            "text/plain": [
              "<tf.Tensor: shape=(2, 2), dtype=int32, numpy=\n",
              "array([[ 89,  98],\n",
              "       [116, 128]], dtype=int32)>"
            ]
          },
          "metadata": {
            "tags": []
          },
          "execution_count": 91
        }
      ]
    },
    {
      "cell_type": "code",
      "metadata": {
        "colab": {
          "base_uri": "https://localhost:8080/"
        },
        "id": "ciArJzoeiX72",
        "outputId": "57503373-8241-4dbe-b699-c52a17cfaaf9"
      },
      "source": [
        "# Perform matrix mutliplication between X and Y (transposed)\n",
        "tf.matmul(X, tf.transpose(Y))"
      ],
      "execution_count": 92,
      "outputs": [
        {
          "output_type": "execute_result",
          "data": {
            "text/plain": [
              "<tf.Tensor: shape=(3, 3), dtype=int32, numpy=\n",
              "array([[ 23,  29,  35],\n",
              "       [ 53,  67,  81],\n",
              "       [ 83, 105, 127]], dtype=int32)>"
            ]
          },
          "metadata": {
            "tags": []
          },
          "execution_count": 92
        }
      ]
    },
    {
      "cell_type": "code",
      "metadata": {
        "colab": {
          "base_uri": "https://localhost:8080/"
        },
        "id": "0hP32OhmimSH",
        "outputId": "945d38c6-d0ad-4937-99da-27e7bcdfb25b"
      },
      "source": [
        "# Perform matrix mutliplication between X and Y (reshaped)\n",
        "tf.matmul(X, tf.reshape(Y, shape=(2, 3)))"
      ],
      "execution_count": 93,
      "outputs": [
        {
          "output_type": "execute_result",
          "data": {
            "text/plain": [
              "<tf.Tensor: shape=(3, 3), dtype=int32, numpy=\n",
              "array([[ 27,  30,  33],\n",
              "       [ 61,  68,  75],\n",
              "       [ 95, 106, 117]], dtype=int32)>"
            ]
          },
          "metadata": {
            "tags": []
          },
          "execution_count": 93
        }
      ]
    },
    {
      "cell_type": "code",
      "metadata": {
        "colab": {
          "base_uri": "https://localhost:8080/"
        },
        "id": "Z2nZlB4Cizb1",
        "outputId": "a8165419-6ac7-461f-a1d3-1cd31f0e7bcc"
      },
      "source": [
        "# Check the values of Y, reshape Y and transposed Y\n",
        "print(\"Normal Y:\")\n",
        "print(Y, \"\\n\")\n",
        "\n",
        "print(\"Y reshaped to (2, 3)\")\n",
        "print(tf.reshape(Y, (2, 3)), \"\\n\")\n",
        "\n",
        "print(\"Y transposed:\")\n",
        "print(tf.transpose(Y))"
      ],
      "execution_count": 94,
      "outputs": [
        {
          "output_type": "stream",
          "text": [
            "Normal Y:\n",
            "tf.Tensor(\n",
            "[[ 7  8]\n",
            " [ 9 10]\n",
            " [11 12]], shape=(3, 2), dtype=int32) \n",
            "\n",
            "Y reshaped to (2, 3)\n",
            "tf.Tensor(\n",
            "[[ 7  8  9]\n",
            " [10 11 12]], shape=(2, 3), dtype=int32) \n",
            "\n",
            "Y transposed:\n",
            "tf.Tensor(\n",
            "[[ 7  9 11]\n",
            " [ 8 10 12]], shape=(2, 3), dtype=int32)\n"
          ],
          "name": "stdout"
        }
      ]
    },
    {
      "cell_type": "code",
      "metadata": {
        "colab": {
          "base_uri": "https://localhost:8080/"
        },
        "id": "gyYOnF2ujbtO",
        "outputId": "64446495-845a-4fc3-aafc-66d633543638"
      },
      "source": [
        "tf.matmul(X, tf.transpose(Y))"
      ],
      "execution_count": 95,
      "outputs": [
        {
          "output_type": "execute_result",
          "data": {
            "text/plain": [
              "<tf.Tensor: shape=(3, 3), dtype=int32, numpy=\n",
              "array([[ 23,  29,  35],\n",
              "       [ 53,  67,  81],\n",
              "       [ 83, 105, 127]], dtype=int32)>"
            ]
          },
          "metadata": {
            "tags": []
          },
          "execution_count": 95
        }
      ]
    },
    {
      "cell_type": "markdown",
      "metadata": {
        "id": "NAIlUJqbjuyl"
      },
      "source": [
        "🔑 **Note:** Generally, when performing matrix multiplication on two tensors and one of the axes doesn't line up, We will transpose (rather than reshape) one of the tensors to get satisfy the matrix mutiplication rules"
      ]
    },
    {
      "cell_type": "markdown",
      "metadata": {
        "id": "VdXdGLOokeJD"
      },
      "source": [
        "### Changing the datatype of a tensor"
      ]
    },
    {
      "cell_type": "code",
      "metadata": {
        "colab": {
          "base_uri": "https://localhost:8080/"
        },
        "id": "x3fY66hplCsU",
        "outputId": "81c6e021-061c-482a-ed0a-918761d30130"
      },
      "source": [
        "# Create a new tenspr with the default datatype (float32)\n",
        "B = tf.constant([1.7, 7.4])\n",
        "B, B.dtype"
      ],
      "execution_count": 99,
      "outputs": [
        {
          "output_type": "execute_result",
          "data": {
            "text/plain": [
              "(<tf.Tensor: shape=(2,), dtype=float32, numpy=array([1.7, 7.4], dtype=float32)>,\n",
              " tf.float32)"
            ]
          },
          "metadata": {
            "tags": []
          },
          "execution_count": 99
        }
      ]
    },
    {
      "cell_type": "code",
      "metadata": {
        "colab": {
          "base_uri": "https://localhost:8080/"
        },
        "id": "bl2ppm3dlbCi",
        "outputId": "1a994e3d-e86d-40d5-b9fe-86985d970ebb"
      },
      "source": [
        "C = tf.constant([7, 10])\n",
        "C, C.dtype"
      ],
      "execution_count": 100,
      "outputs": [
        {
          "output_type": "execute_result",
          "data": {
            "text/plain": [
              "(<tf.Tensor: shape=(2,), dtype=int32, numpy=array([ 7, 10], dtype=int32)>,\n",
              " tf.int32)"
            ]
          },
          "metadata": {
            "tags": []
          },
          "execution_count": 100
        }
      ]
    },
    {
      "cell_type": "code",
      "metadata": {
        "colab": {
          "base_uri": "https://localhost:8080/"
        },
        "id": "lz3vvG2llfxU",
        "outputId": "205a530c-2019-45f6-8ad0-e3b9df0735db"
      },
      "source": [
        "# Change from float32 to float16 (reduced precision)\n",
        "D = tf.cast(B, dtype=tf.float16)\n",
        "D, D.dtype"
      ],
      "execution_count": 101,
      "outputs": [
        {
          "output_type": "execute_result",
          "data": {
            "text/plain": [
              "(<tf.Tensor: shape=(2,), dtype=float16, numpy=array([1.7, 7.4], dtype=float16)>,\n",
              " tf.float16)"
            ]
          },
          "metadata": {
            "tags": []
          },
          "execution_count": 101
        }
      ]
    },
    {
      "cell_type": "code",
      "metadata": {
        "colab": {
          "base_uri": "https://localhost:8080/"
        },
        "id": "Fxgq1EB6mRbF",
        "outputId": "c36b3d20-16ad-4b37-d107-15328f7613e9"
      },
      "source": [
        "# Change from int32 to float32\n",
        "E = tf.cast(C, dtype=tf.float32)\n",
        "E, E.dtype"
      ],
      "execution_count": 102,
      "outputs": [
        {
          "output_type": "execute_result",
          "data": {
            "text/plain": [
              "(<tf.Tensor: shape=(2,), dtype=float32, numpy=array([ 7., 10.], dtype=float32)>,\n",
              " tf.float32)"
            ]
          },
          "metadata": {
            "tags": []
          },
          "execution_count": 102
        }
      ]
    },
    {
      "cell_type": "code",
      "metadata": {
        "colab": {
          "base_uri": "https://localhost:8080/"
        },
        "id": "lwmae6HDmvx5",
        "outputId": "d7c7f9ef-a7ff-4c89-8507-259b70e6e267"
      },
      "source": [
        "E_float16 = tf.cast(E, dtype=tf.float16)\n",
        "E_float16, E_float16.dtype"
      ],
      "execution_count": 103,
      "outputs": [
        {
          "output_type": "execute_result",
          "data": {
            "text/plain": [
              "(<tf.Tensor: shape=(2,), dtype=float16, numpy=array([ 7., 10.], dtype=float16)>,\n",
              " tf.float16)"
            ]
          },
          "metadata": {
            "tags": []
          },
          "execution_count": 103
        }
      ]
    },
    {
      "cell_type": "markdown",
      "metadata": {
        "id": "IQQ5oK3Ym8ag"
      },
      "source": [
        "### Aggregating tensors\n",
        "\n",
        ">Aggregating tensors - condensing them from multiple values down to a smaller amount of values."
      ]
    },
    {
      "cell_type": "code",
      "metadata": {
        "colab": {
          "base_uri": "https://localhost:8080/"
        },
        "id": "nCHN2C3snLYw",
        "outputId": "be4712c2-181a-4053-9d49-f691f7231ccc"
      },
      "source": [
        "D = tf.constant([-7, -10])\n",
        "D"
      ],
      "execution_count": 104,
      "outputs": [
        {
          "output_type": "execute_result",
          "data": {
            "text/plain": [
              "<tf.Tensor: shape=(2,), dtype=int32, numpy=array([ -7, -10], dtype=int32)>"
            ]
          },
          "metadata": {
            "tags": []
          },
          "execution_count": 104
        }
      ]
    },
    {
      "cell_type": "code",
      "metadata": {
        "colab": {
          "base_uri": "https://localhost:8080/"
        },
        "id": "UG2DhEIkoJb5",
        "outputId": "0028d59c-c645-4849-eca8-1655254619bc"
      },
      "source": [
        "# Get the absolute values\n",
        "tf.abs(D)"
      ],
      "execution_count": 105,
      "outputs": [
        {
          "output_type": "execute_result",
          "data": {
            "text/plain": [
              "<tf.Tensor: shape=(2,), dtype=int32, numpy=array([ 7, 10], dtype=int32)>"
            ]
          },
          "metadata": {
            "tags": []
          },
          "execution_count": 105
        }
      ]
    },
    {
      "cell_type": "markdown",
      "metadata": {
        "id": "esqFTbhJoPby"
      },
      "source": [
        "Let's go throgh the following forms of aggregations\n",
        "* Get the minimum\n",
        "* Get the maximum\n",
        "* Get the mean of a tensor\n",
        "* Get the sum of a tensor"
      ]
    },
    {
      "cell_type": "code",
      "metadata": {
        "colab": {
          "base_uri": "https://localhost:8080/"
        },
        "id": "DTX4jBIbokeU",
        "outputId": "e0ac11be-160e-4815-cd88-3530b95899fb"
      },
      "source": [
        "# Creating a random tensor with values between 0 and 100 of size 50\n",
        "E = tf.constant(np.random.randint(0, 100, size=50))\n",
        "E"
      ],
      "execution_count": 107,
      "outputs": [
        {
          "output_type": "execute_result",
          "data": {
            "text/plain": [
              "<tf.Tensor: shape=(50,), dtype=int64, numpy=\n",
              "array([91, 33, 19, 16, 76, 51,  3, 66, 29, 47, 26, 28, 45, 21, 94, 52, 98,\n",
              "       59, 52, 93, 38, 74, 12, 93, 62, 19, 91, 67, 40, 21, 70,  8, 17, 38,\n",
              "       42, 10, 17, 82, 50, 30,  6, 21, 29, 88, 96, 63, 84, 83, 78, 33])>"
            ]
          },
          "metadata": {
            "tags": []
          },
          "execution_count": 107
        }
      ]
    },
    {
      "cell_type": "code",
      "metadata": {
        "colab": {
          "base_uri": "https://localhost:8080/"
        },
        "id": "KTb3BXfxo2uP",
        "outputId": "1eeb8f26-f8d6-4e0e-9ece-bd2ee8801fd7"
      },
      "source": [
        "tf.size(E), E.shape, E.ndim"
      ],
      "execution_count": 108,
      "outputs": [
        {
          "output_type": "execute_result",
          "data": {
            "text/plain": [
              "(<tf.Tensor: shape=(), dtype=int32, numpy=50>, TensorShape([50]), 1)"
            ]
          },
          "metadata": {
            "tags": []
          },
          "execution_count": 108
        }
      ]
    },
    {
      "cell_type": "code",
      "metadata": {
        "colab": {
          "base_uri": "https://localhost:8080/"
        },
        "id": "iw3PTqlRo7l3",
        "outputId": "3a52cdfb-c407-4c72-b119-c9e585b439ee"
      },
      "source": [
        "# Find the minimum\n",
        "tf.reduce_min(E)"
      ],
      "execution_count": 109,
      "outputs": [
        {
          "output_type": "execute_result",
          "data": {
            "text/plain": [
              "<tf.Tensor: shape=(), dtype=int64, numpy=3>"
            ]
          },
          "metadata": {
            "tags": []
          },
          "execution_count": 109
        }
      ]
    },
    {
      "cell_type": "code",
      "metadata": {
        "colab": {
          "base_uri": "https://localhost:8080/"
        },
        "id": "F1jOaCW3pB8f",
        "outputId": "591faf8b-04c9-4b21-b7e8-867574b7a263"
      },
      "source": [
        "# Find the maximum\n",
        "tf.reduce_max(E)"
      ],
      "execution_count": 110,
      "outputs": [
        {
          "output_type": "execute_result",
          "data": {
            "text/plain": [
              "<tf.Tensor: shape=(), dtype=int64, numpy=98>"
            ]
          },
          "metadata": {
            "tags": []
          },
          "execution_count": 110
        }
      ]
    },
    {
      "cell_type": "code",
      "metadata": {
        "colab": {
          "base_uri": "https://localhost:8080/"
        },
        "id": "VPVytEzLpN4D",
        "outputId": "39cd5521-0602-43bc-efcd-0549e3b4fb54"
      },
      "source": [
        "# Find the mean\n",
        "tf.reduce_mean(E)"
      ],
      "execution_count": 111,
      "outputs": [
        {
          "output_type": "execute_result",
          "data": {
            "text/plain": [
              "<tf.Tensor: shape=(), dtype=int64, numpy=49>"
            ]
          },
          "metadata": {
            "tags": []
          },
          "execution_count": 111
        }
      ]
    },
    {
      "cell_type": "code",
      "metadata": {
        "colab": {
          "base_uri": "https://localhost:8080/"
        },
        "id": "yhSJOMjZpQ37",
        "outputId": "fa0bfc2e-92a4-4f5b-843d-89a2ac5d1512"
      },
      "source": [
        "# Find the sum\n",
        "tf.reduce_sum(E)"
      ],
      "execution_count": 112,
      "outputs": [
        {
          "output_type": "execute_result",
          "data": {
            "text/plain": [
              "<tf.Tensor: shape=(), dtype=int64, numpy=2461>"
            ]
          },
          "metadata": {
            "tags": []
          },
          "execution_count": 112
        }
      ]
    },
    {
      "cell_type": "markdown",
      "metadata": {
        "id": "H013SZlVpSvS"
      },
      "source": [
        "🛠️ **Exercise:** With what We've just learned, find the variance and the standard deviation of `E` tensor using TensorFlow methods."
      ]
    },
    {
      "cell_type": "code",
      "metadata": {
        "colab": {
          "base_uri": "https://localhost:8080/",
          "height": 181
        },
        "id": "gmnK1QOMp4Si",
        "outputId": "e0be9567-8bba-48b6-a525-5cdfa4047605"
      },
      "source": [
        "# Find the variance of our tensor\n",
        "tf.reduce_variance(E) # won't work..."
      ],
      "execution_count": 113,
      "outputs": [
        {
          "output_type": "error",
          "ename": "AttributeError",
          "evalue": "ignored",
          "traceback": [
            "\u001b[0;31m---------------------------------------------------------------------------\u001b[0m",
            "\u001b[0;31mAttributeError\u001b[0m                            Traceback (most recent call last)",
            "\u001b[0;32m<ipython-input-113-2c95d83bf25f>\u001b[0m in \u001b[0;36m<module>\u001b[0;34m()\u001b[0m\n\u001b[1;32m      1\u001b[0m \u001b[0;31m# Find the variance of our tensor\u001b[0m\u001b[0;34m\u001b[0m\u001b[0;34m\u001b[0m\u001b[0;34m\u001b[0m\u001b[0m\n\u001b[0;32m----> 2\u001b[0;31m \u001b[0mtf\u001b[0m\u001b[0;34m.\u001b[0m\u001b[0mreduce_variance\u001b[0m\u001b[0;34m(\u001b[0m\u001b[0mE\u001b[0m\u001b[0;34m)\u001b[0m\u001b[0;34m\u001b[0m\u001b[0;34m\u001b[0m\u001b[0m\n\u001b[0m",
            "\u001b[0;31mAttributeError\u001b[0m: module 'tensorflow' has no attribute 'reduce_variance'"
          ]
        }
      ]
    },
    {
      "cell_type": "code",
      "metadata": {
        "colab": {
          "base_uri": "https://localhost:8080/"
        },
        "id": "sg1Ct3znqW7P",
        "outputId": "93f9f2b4-c468-488e-9d04-5a8ca10ac6a1"
      },
      "source": [
        "# To find the variance of our tensor, We need access to tensorflow_probability\n",
        "import tensorflow_probability as tfp\n",
        "tfp.stats.variance(E)"
      ],
      "execution_count": 114,
      "outputs": [
        {
          "output_type": "execute_result",
          "data": {
            "text/plain": [
              "<tf.Tensor: shape=(), dtype=int64, numpy=832>"
            ]
          },
          "metadata": {
            "tags": []
          },
          "execution_count": 114
        }
      ]
    },
    {
      "cell_type": "code",
      "metadata": {
        "colab": {
          "base_uri": "https://localhost:8080/",
          "height": 324
        },
        "id": "dEeFuUBdrNd-",
        "outputId": "936532d1-a530-432d-c753-e622e9202f93"
      },
      "source": [
        "tf.math.reduce_std(E) # For standard deviation complex datatype supported eg. float32"
      ],
      "execution_count": 116,
      "outputs": [
        {
          "output_type": "error",
          "ename": "TypeError",
          "evalue": "ignored",
          "traceback": [
            "\u001b[0;31m---------------------------------------------------------------------------\u001b[0m",
            "\u001b[0;31mTypeError\u001b[0m                                 Traceback (most recent call last)",
            "\u001b[0;32m<ipython-input-116-4705f2bb2a39>\u001b[0m in \u001b[0;36m<module>\u001b[0;34m()\u001b[0m\n\u001b[0;32m----> 1\u001b[0;31m \u001b[0mtf\u001b[0m\u001b[0;34m.\u001b[0m\u001b[0mmath\u001b[0m\u001b[0;34m.\u001b[0m\u001b[0mreduce_std\u001b[0m\u001b[0;34m(\u001b[0m\u001b[0mE\u001b[0m\u001b[0;34m)\u001b[0m\u001b[0;34m\u001b[0m\u001b[0;34m\u001b[0m\u001b[0m\n\u001b[0m",
            "\u001b[0;32m/usr/local/lib/python3.7/dist-packages/tensorflow/python/util/dispatch.py\u001b[0m in \u001b[0;36mwrapper\u001b[0;34m(*args, **kwargs)\u001b[0m\n\u001b[1;32m    204\u001b[0m     \u001b[0;34m\"\"\"Call target, and fall back on dispatchers if there is a TypeError.\"\"\"\u001b[0m\u001b[0;34m\u001b[0m\u001b[0;34m\u001b[0m\u001b[0m\n\u001b[1;32m    205\u001b[0m     \u001b[0;32mtry\u001b[0m\u001b[0;34m:\u001b[0m\u001b[0;34m\u001b[0m\u001b[0;34m\u001b[0m\u001b[0m\n\u001b[0;32m--> 206\u001b[0;31m       \u001b[0;32mreturn\u001b[0m \u001b[0mtarget\u001b[0m\u001b[0;34m(\u001b[0m\u001b[0;34m*\u001b[0m\u001b[0margs\u001b[0m\u001b[0;34m,\u001b[0m \u001b[0;34m**\u001b[0m\u001b[0mkwargs\u001b[0m\u001b[0;34m)\u001b[0m\u001b[0;34m\u001b[0m\u001b[0;34m\u001b[0m\u001b[0m\n\u001b[0m\u001b[1;32m    207\u001b[0m     \u001b[0;32mexcept\u001b[0m \u001b[0;34m(\u001b[0m\u001b[0mTypeError\u001b[0m\u001b[0;34m,\u001b[0m \u001b[0mValueError\u001b[0m\u001b[0;34m)\u001b[0m\u001b[0;34m:\u001b[0m\u001b[0;34m\u001b[0m\u001b[0;34m\u001b[0m\u001b[0m\n\u001b[1;32m    208\u001b[0m       \u001b[0;31m# Note: convert_to_eager_tensor currently raises a ValueError, not a\u001b[0m\u001b[0;34m\u001b[0m\u001b[0;34m\u001b[0m\u001b[0;34m\u001b[0m\u001b[0m\n",
            "\u001b[0;32m/usr/local/lib/python3.7/dist-packages/tensorflow/python/ops/math_ops.py\u001b[0m in \u001b[0;36mreduce_std\u001b[0;34m(input_tensor, axis, keepdims, name)\u001b[0m\n\u001b[1;32m   2556\u001b[0m   \u001b[0mname\u001b[0m \u001b[0;34m=\u001b[0m \u001b[0mname\u001b[0m \u001b[0;32mif\u001b[0m \u001b[0mname\u001b[0m \u001b[0;32melse\u001b[0m \u001b[0;34m\"reduce_std\"\u001b[0m\u001b[0;34m\u001b[0m\u001b[0;34m\u001b[0m\u001b[0m\n\u001b[1;32m   2557\u001b[0m   \u001b[0;32mwith\u001b[0m \u001b[0mops\u001b[0m\u001b[0;34m.\u001b[0m\u001b[0mname_scope\u001b[0m\u001b[0;34m(\u001b[0m\u001b[0mname\u001b[0m\u001b[0;34m)\u001b[0m\u001b[0;34m:\u001b[0m\u001b[0;34m\u001b[0m\u001b[0;34m\u001b[0m\u001b[0m\n\u001b[0;32m-> 2558\u001b[0;31m     \u001b[0mvariance\u001b[0m \u001b[0;34m=\u001b[0m \u001b[0mreduce_variance\u001b[0m\u001b[0;34m(\u001b[0m\u001b[0minput_tensor\u001b[0m\u001b[0;34m,\u001b[0m \u001b[0maxis\u001b[0m\u001b[0;34m=\u001b[0m\u001b[0maxis\u001b[0m\u001b[0;34m,\u001b[0m \u001b[0mkeepdims\u001b[0m\u001b[0;34m=\u001b[0m\u001b[0mkeepdims\u001b[0m\u001b[0;34m)\u001b[0m\u001b[0;34m\u001b[0m\u001b[0;34m\u001b[0m\u001b[0m\n\u001b[0m\u001b[1;32m   2559\u001b[0m     \u001b[0;32mreturn\u001b[0m \u001b[0mgen_math_ops\u001b[0m\u001b[0;34m.\u001b[0m\u001b[0msqrt\u001b[0m\u001b[0;34m(\u001b[0m\u001b[0mvariance\u001b[0m\u001b[0;34m)\u001b[0m\u001b[0;34m\u001b[0m\u001b[0;34m\u001b[0m\u001b[0m\n\u001b[1;32m   2560\u001b[0m \u001b[0;34m\u001b[0m\u001b[0m\n",
            "\u001b[0;32m/usr/local/lib/python3.7/dist-packages/tensorflow/python/util/dispatch.py\u001b[0m in \u001b[0;36mwrapper\u001b[0;34m(*args, **kwargs)\u001b[0m\n\u001b[1;32m    204\u001b[0m     \u001b[0;34m\"\"\"Call target, and fall back on dispatchers if there is a TypeError.\"\"\"\u001b[0m\u001b[0;34m\u001b[0m\u001b[0;34m\u001b[0m\u001b[0m\n\u001b[1;32m    205\u001b[0m     \u001b[0;32mtry\u001b[0m\u001b[0;34m:\u001b[0m\u001b[0;34m\u001b[0m\u001b[0;34m\u001b[0m\u001b[0m\n\u001b[0;32m--> 206\u001b[0;31m       \u001b[0;32mreturn\u001b[0m \u001b[0mtarget\u001b[0m\u001b[0;34m(\u001b[0m\u001b[0;34m*\u001b[0m\u001b[0margs\u001b[0m\u001b[0;34m,\u001b[0m \u001b[0;34m**\u001b[0m\u001b[0mkwargs\u001b[0m\u001b[0;34m)\u001b[0m\u001b[0;34m\u001b[0m\u001b[0;34m\u001b[0m\u001b[0m\n\u001b[0m\u001b[1;32m    207\u001b[0m     \u001b[0;32mexcept\u001b[0m \u001b[0;34m(\u001b[0m\u001b[0mTypeError\u001b[0m\u001b[0;34m,\u001b[0m \u001b[0mValueError\u001b[0m\u001b[0;34m)\u001b[0m\u001b[0;34m:\u001b[0m\u001b[0;34m\u001b[0m\u001b[0;34m\u001b[0m\u001b[0m\n\u001b[1;32m    208\u001b[0m       \u001b[0;31m# Note: convert_to_eager_tensor currently raises a ValueError, not a\u001b[0m\u001b[0;34m\u001b[0m\u001b[0;34m\u001b[0m\u001b[0;34m\u001b[0m\u001b[0m\n",
            "\u001b[0;32m/usr/local/lib/python3.7/dist-packages/tensorflow/python/ops/math_ops.py\u001b[0m in \u001b[0;36mreduce_variance\u001b[0;34m(input_tensor, axis, keepdims, name)\u001b[0m\n\u001b[1;32m   2497\u001b[0m     \u001b[0mmeans\u001b[0m \u001b[0;34m=\u001b[0m \u001b[0mreduce_mean\u001b[0m\u001b[0;34m(\u001b[0m\u001b[0minput_tensor\u001b[0m\u001b[0;34m,\u001b[0m \u001b[0maxis\u001b[0m\u001b[0;34m=\u001b[0m\u001b[0maxis\u001b[0m\u001b[0;34m,\u001b[0m \u001b[0mkeepdims\u001b[0m\u001b[0;34m=\u001b[0m\u001b[0;32mTrue\u001b[0m\u001b[0;34m)\u001b[0m\u001b[0;34m\u001b[0m\u001b[0;34m\u001b[0m\u001b[0m\n\u001b[1;32m   2498\u001b[0m     \u001b[0;32mif\u001b[0m \u001b[0mmeans\u001b[0m\u001b[0;34m.\u001b[0m\u001b[0mdtype\u001b[0m\u001b[0;34m.\u001b[0m\u001b[0mis_integer\u001b[0m\u001b[0;34m:\u001b[0m\u001b[0;34m\u001b[0m\u001b[0;34m\u001b[0m\u001b[0m\n\u001b[0;32m-> 2499\u001b[0;31m       \u001b[0;32mraise\u001b[0m \u001b[0mTypeError\u001b[0m\u001b[0;34m(\u001b[0m\u001b[0;34m\"Input must be either real or complex\"\u001b[0m\u001b[0;34m)\u001b[0m\u001b[0;34m\u001b[0m\u001b[0;34m\u001b[0m\u001b[0m\n\u001b[0m\u001b[1;32m   2500\u001b[0m     \u001b[0mdiff\u001b[0m \u001b[0;34m=\u001b[0m \u001b[0minput_tensor\u001b[0m \u001b[0;34m-\u001b[0m \u001b[0mmeans\u001b[0m\u001b[0;34m\u001b[0m\u001b[0;34m\u001b[0m\u001b[0m\n\u001b[1;32m   2501\u001b[0m     \u001b[0;32mif\u001b[0m \u001b[0mdiff\u001b[0m\u001b[0;34m.\u001b[0m\u001b[0mdtype\u001b[0m\u001b[0;34m.\u001b[0m\u001b[0mis_complex\u001b[0m\u001b[0;34m:\u001b[0m\u001b[0;34m\u001b[0m\u001b[0;34m\u001b[0m\u001b[0m\n",
            "\u001b[0;31mTypeError\u001b[0m: Input must be either real or complex"
          ]
        }
      ]
    },
    {
      "cell_type": "code",
      "metadata": {
        "colab": {
          "base_uri": "https://localhost:8080/"
        },
        "id": "4lc2VWBoqlZY",
        "outputId": "1703e83c-7e41-4813-e879-05feb8462d1e"
      },
      "source": [
        "# Find the standard deviation for E tensor\n",
        "tf.math.reduce_std(tf.cast(E, dtype=tf.float32))"
      ],
      "execution_count": 115,
      "outputs": [
        {
          "output_type": "execute_result",
          "data": {
            "text/plain": [
              "<tf.Tensor: shape=(), dtype=float32, numpy=28.851543>"
            ]
          },
          "metadata": {
            "tags": []
          },
          "execution_count": 115
        }
      ]
    },
    {
      "cell_type": "code",
      "metadata": {
        "colab": {
          "base_uri": "https://localhost:8080/"
        },
        "id": "FGmNUpN6r0Sq",
        "outputId": "f5ffbd58-1051-4efe-9e79-df0e10e969b6"
      },
      "source": [
        "# Find the variance for E tensor\n",
        "tf.math.reduce_variance(tf.cast(E, dtype=tf.float32))"
      ],
      "execution_count": 117,
      "outputs": [
        {
          "output_type": "execute_result",
          "data": {
            "text/plain": [
              "<tf.Tensor: shape=(), dtype=float32, numpy=832.41156>"
            ]
          },
          "metadata": {
            "tags": []
          },
          "execution_count": 117
        }
      ]
    },
    {
      "cell_type": "markdown",
      "metadata": {
        "id": "kUJIhaXwrlWB"
      },
      "source": [
        "###Find the positional maximum and minimum"
      ]
    },
    {
      "cell_type": "code",
      "metadata": {
        "colab": {
          "base_uri": "https://localhost:8080/"
        },
        "id": "DNXtiwfKsgUW",
        "outputId": "2146b20f-d1ea-4cbe-c59a-00f18d6bf018"
      },
      "source": [
        "# Create a new tensor for finding positional minimum and maximum\n",
        "tf.random.set_seed(42)\n",
        "F = tf.random.uniform(shape=[50])\n",
        "F"
      ],
      "execution_count": 118,
      "outputs": [
        {
          "output_type": "execute_result",
          "data": {
            "text/plain": [
              "<tf.Tensor: shape=(50,), dtype=float32, numpy=\n",
              "array([0.6645621 , 0.44100678, 0.3528825 , 0.46448255, 0.03366041,\n",
              "       0.68467236, 0.74011743, 0.8724445 , 0.22632635, 0.22319686,\n",
              "       0.3103881 , 0.7223358 , 0.13318717, 0.5480639 , 0.5746088 ,\n",
              "       0.8996835 , 0.00946367, 0.5212307 , 0.6345445 , 0.1993283 ,\n",
              "       0.72942245, 0.54583454, 0.10756552, 0.6767061 , 0.6602763 ,\n",
              "       0.33695042, 0.60141766, 0.21062577, 0.8527372 , 0.44062173,\n",
              "       0.9485276 , 0.23752594, 0.81179297, 0.5263394 , 0.494308  ,\n",
              "       0.21612847, 0.8457197 , 0.8718841 , 0.3083862 , 0.6868038 ,\n",
              "       0.23764038, 0.7817228 , 0.9671384 , 0.06870162, 0.79873943,\n",
              "       0.66028714, 0.5871513 , 0.16461694, 0.7381023 , 0.32054043],\n",
              "      dtype=float32)>"
            ]
          },
          "metadata": {
            "tags": []
          },
          "execution_count": 118
        }
      ]
    },
    {
      "cell_type": "code",
      "metadata": {
        "colab": {
          "base_uri": "https://localhost:8080/"
        },
        "id": "5fVpdMb7tZNy",
        "outputId": "dfe9d164-8132-422e-ed0c-7177bc36e1cd"
      },
      "source": [
        "# find the positional maximum\n",
        "tf.argmax(F)"
      ],
      "execution_count": 119,
      "outputs": [
        {
          "output_type": "execute_result",
          "data": {
            "text/plain": [
              "<tf.Tensor: shape=(), dtype=int64, numpy=42>"
            ]
          },
          "metadata": {
            "tags": []
          },
          "execution_count": 119
        }
      ]
    },
    {
      "cell_type": "code",
      "metadata": {
        "colab": {
          "base_uri": "https://localhost:8080/"
        },
        "id": "yFPsK9TttmP4",
        "outputId": "7d2e91b5-2f63-485a-c52a-d17c5958cb28"
      },
      "source": [
        "# Index on our largest vlaue position\n",
        "F[tf.argmax(F)]"
      ],
      "execution_count": 120,
      "outputs": [
        {
          "output_type": "execute_result",
          "data": {
            "text/plain": [
              "<tf.Tensor: shape=(), dtype=float32, numpy=0.9671384>"
            ]
          },
          "metadata": {
            "tags": []
          },
          "execution_count": 120
        }
      ]
    },
    {
      "cell_type": "code",
      "metadata": {
        "colab": {
          "base_uri": "https://localhost:8080/"
        },
        "id": "h5OyxKNwttiC",
        "outputId": "0265c1b1-24b9-417a-f7a5-6b0073bdc628"
      },
      "source": [
        "# Find the max value of F\n",
        "tf.reduce_max(F)"
      ],
      "execution_count": 121,
      "outputs": [
        {
          "output_type": "execute_result",
          "data": {
            "text/plain": [
              "<tf.Tensor: shape=(), dtype=float32, numpy=0.9671384>"
            ]
          },
          "metadata": {
            "tags": []
          },
          "execution_count": 121
        }
      ]
    },
    {
      "cell_type": "code",
      "metadata": {
        "colab": {
          "base_uri": "https://localhost:8080/"
        },
        "id": "qs7MdkjitzbQ",
        "outputId": "c246b418-0587-444d-9231-3a53a00bcb29"
      },
      "source": [
        "# Check for equality\n",
        "F[tf.argmax(F)] == tf.reduce_max(F)"
      ],
      "execution_count": 122,
      "outputs": [
        {
          "output_type": "execute_result",
          "data": {
            "text/plain": [
              "<tf.Tensor: shape=(), dtype=bool, numpy=True>"
            ]
          },
          "metadata": {
            "tags": []
          },
          "execution_count": 122
        }
      ]
    },
    {
      "cell_type": "code",
      "metadata": {
        "colab": {
          "base_uri": "https://localhost:8080/"
        },
        "id": "jK_B5Irbt8T7",
        "outputId": "7540e54f-8153-446a-fef2-62a9667c9ae5"
      },
      "source": [
        "# Find the positional minimum\n",
        "tf.argmin(F)"
      ],
      "execution_count": 123,
      "outputs": [
        {
          "output_type": "execute_result",
          "data": {
            "text/plain": [
              "<tf.Tensor: shape=(), dtype=int64, numpy=16>"
            ]
          },
          "metadata": {
            "tags": []
          },
          "execution_count": 123
        }
      ]
    },
    {
      "cell_type": "code",
      "metadata": {
        "colab": {
          "base_uri": "https://localhost:8080/"
        },
        "id": "vfh8JfX2uPuQ",
        "outputId": "d56fb431-0299-4043-e3cd-e9758f9b81de"
      },
      "source": [
        "# Find the minimum using the positional minimum index\n",
        "F[tf.argmin(F)]"
      ],
      "execution_count": 124,
      "outputs": [
        {
          "output_type": "execute_result",
          "data": {
            "text/plain": [
              "<tf.Tensor: shape=(), dtype=float32, numpy=0.009463668>"
            ]
          },
          "metadata": {
            "tags": []
          },
          "execution_count": 124
        }
      ]
    },
    {
      "cell_type": "markdown",
      "metadata": {
        "id": "pvbB4AweuY4O"
      },
      "source": [
        "### Squeezing a tensor (removing all single dimensions)"
      ]
    },
    {
      "cell_type": "code",
      "metadata": {
        "colab": {
          "base_uri": "https://localhost:8080/"
        },
        "id": "tPuaP5n3up1j",
        "outputId": "e0d6a7a1-77ec-48df-e4f4-0d5d91a2dfe7"
      },
      "source": [
        "# Create a tensor to get started\n",
        "tf.random.set_seed(42)\n",
        "G = tf.constant(tf.random.uniform(shape=[50]), shape=(1, 1, 1, 1, 50))\n",
        "G"
      ],
      "execution_count": 125,
      "outputs": [
        {
          "output_type": "execute_result",
          "data": {
            "text/plain": [
              "<tf.Tensor: shape=(1, 1, 1, 1, 50), dtype=float32, numpy=\n",
              "array([[[[[0.6645621 , 0.44100678, 0.3528825 , 0.46448255, 0.03366041,\n",
              "           0.68467236, 0.74011743, 0.8724445 , 0.22632635, 0.22319686,\n",
              "           0.3103881 , 0.7223358 , 0.13318717, 0.5480639 , 0.5746088 ,\n",
              "           0.8996835 , 0.00946367, 0.5212307 , 0.6345445 , 0.1993283 ,\n",
              "           0.72942245, 0.54583454, 0.10756552, 0.6767061 , 0.6602763 ,\n",
              "           0.33695042, 0.60141766, 0.21062577, 0.8527372 , 0.44062173,\n",
              "           0.9485276 , 0.23752594, 0.81179297, 0.5263394 , 0.494308  ,\n",
              "           0.21612847, 0.8457197 , 0.8718841 , 0.3083862 , 0.6868038 ,\n",
              "           0.23764038, 0.7817228 , 0.9671384 , 0.06870162, 0.79873943,\n",
              "           0.66028714, 0.5871513 , 0.16461694, 0.7381023 , 0.32054043]]]]],\n",
              "      dtype=float32)>"
            ]
          },
          "metadata": {
            "tags": []
          },
          "execution_count": 125
        }
      ]
    },
    {
      "cell_type": "code",
      "metadata": {
        "colab": {
          "base_uri": "https://localhost:8080/"
        },
        "id": "dpgsYvYFu7Sv",
        "outputId": "430ab589-6778-4b41-c9c0-27709c14617c"
      },
      "source": [
        "G.shape"
      ],
      "execution_count": 126,
      "outputs": [
        {
          "output_type": "execute_result",
          "data": {
            "text/plain": [
              "TensorShape([1, 1, 1, 1, 50])"
            ]
          },
          "metadata": {
            "tags": []
          },
          "execution_count": 126
        }
      ]
    },
    {
      "cell_type": "code",
      "metadata": {
        "colab": {
          "base_uri": "https://localhost:8080/"
        },
        "id": "Dzkc2HWYvE1b",
        "outputId": "d78e7cdd-b447-4fb9-b07e-6d2122d294ca"
      },
      "source": [
        "G_squeezed = tf.squeeze(G)\n",
        "G_squeezed, G_squeezed.shape"
      ],
      "execution_count": 127,
      "outputs": [
        {
          "output_type": "execute_result",
          "data": {
            "text/plain": [
              "(<tf.Tensor: shape=(50,), dtype=float32, numpy=\n",
              " array([0.6645621 , 0.44100678, 0.3528825 , 0.46448255, 0.03366041,\n",
              "        0.68467236, 0.74011743, 0.8724445 , 0.22632635, 0.22319686,\n",
              "        0.3103881 , 0.7223358 , 0.13318717, 0.5480639 , 0.5746088 ,\n",
              "        0.8996835 , 0.00946367, 0.5212307 , 0.6345445 , 0.1993283 ,\n",
              "        0.72942245, 0.54583454, 0.10756552, 0.6767061 , 0.6602763 ,\n",
              "        0.33695042, 0.60141766, 0.21062577, 0.8527372 , 0.44062173,\n",
              "        0.9485276 , 0.23752594, 0.81179297, 0.5263394 , 0.494308  ,\n",
              "        0.21612847, 0.8457197 , 0.8718841 , 0.3083862 , 0.6868038 ,\n",
              "        0.23764038, 0.7817228 , 0.9671384 , 0.06870162, 0.79873943,\n",
              "        0.66028714, 0.5871513 , 0.16461694, 0.7381023 , 0.32054043],\n",
              "       dtype=float32)>, TensorShape([50]))"
            ]
          },
          "metadata": {
            "tags": []
          },
          "execution_count": 127
        }
      ]
    },
    {
      "cell_type": "markdown",
      "metadata": {
        "id": "8RHBJfVtvQoW"
      },
      "source": [
        "### One-hot encoding tensors\n",
        "\n",
        ">One-hot encoding is a form of numerical encode"
      ]
    },
    {
      "cell_type": "code",
      "metadata": {
        "colab": {
          "base_uri": "https://localhost:8080/"
        },
        "id": "af6kzLYDvbRP",
        "outputId": "5a1f001b-71bb-4eb8-bc44-2f2d5bba0308"
      },
      "source": [
        "# Create a list of indices\n",
        "some_list = [0, 1, 2, 3] # could be red, green, blue & purple\n",
        "\n",
        "# One hot encode our list of indices\n",
        "tf.one_hot(some_list, depth=4)"
      ],
      "execution_count": 128,
      "outputs": [
        {
          "output_type": "execute_result",
          "data": {
            "text/plain": [
              "<tf.Tensor: shape=(4, 4), dtype=float32, numpy=\n",
              "array([[1., 0., 0., 0.],\n",
              "       [0., 1., 0., 0.],\n",
              "       [0., 0., 1., 0.],\n",
              "       [0., 0., 0., 1.]], dtype=float32)>"
            ]
          },
          "metadata": {
            "tags": []
          },
          "execution_count": 128
        }
      ]
    },
    {
      "cell_type": "code",
      "metadata": {
        "colab": {
          "base_uri": "https://localhost:8080/"
        },
        "id": "KXj8kWZOwvsT",
        "outputId": "1f9c4d93-43ae-42bf-f920-265a0ae6cd7a"
      },
      "source": [
        "# Specify custom values for one hot encoding\n",
        "tf.one_hot(some_list, depth=4, on_value=\"true\", off_value=\"false\")"
      ],
      "execution_count": 130,
      "outputs": [
        {
          "output_type": "execute_result",
          "data": {
            "text/plain": [
              "<tf.Tensor: shape=(4, 4), dtype=string, numpy=\n",
              "array([[b'true', b'false', b'false', b'false'],\n",
              "       [b'false', b'true', b'false', b'false'],\n",
              "       [b'false', b'false', b'true', b'false'],\n",
              "       [b'false', b'false', b'false', b'true']], dtype=object)>"
            ]
          },
          "metadata": {
            "tags": []
          },
          "execution_count": 130
        }
      ]
    },
    {
      "cell_type": "markdown",
      "metadata": {
        "id": "KlCgrxE2xVk-"
      },
      "source": [
        "### Squaring, log, square root"
      ]
    },
    {
      "cell_type": "code",
      "metadata": {
        "colab": {
          "base_uri": "https://localhost:8080/"
        },
        "id": "ZkHiRbDvxzpa",
        "outputId": "c2e26187-c16e-4892-9381-242714fc34db"
      },
      "source": [
        "# Create a new tensor\n",
        "H = tf.range(1, 10)\n",
        "H"
      ],
      "execution_count": 131,
      "outputs": [
        {
          "output_type": "execute_result",
          "data": {
            "text/plain": [
              "<tf.Tensor: shape=(9,), dtype=int32, numpy=array([1, 2, 3, 4, 5, 6, 7, 8, 9], dtype=int32)>"
            ]
          },
          "metadata": {
            "tags": []
          },
          "execution_count": 131
        }
      ]
    },
    {
      "cell_type": "code",
      "metadata": {
        "colab": {
          "base_uri": "https://localhost:8080/"
        },
        "id": "fqJoM08yx5Rd",
        "outputId": "2c1ac6f2-69ee-4406-9ec8-e3f3bb860fd2"
      },
      "source": [
        "# Find the Square\n",
        "tf.square(H)"
      ],
      "execution_count": 132,
      "outputs": [
        {
          "output_type": "execute_result",
          "data": {
            "text/plain": [
              "<tf.Tensor: shape=(9,), dtype=int32, numpy=array([ 1,  4,  9, 16, 25, 36, 49, 64, 81], dtype=int32)>"
            ]
          },
          "metadata": {
            "tags": []
          },
          "execution_count": 132
        }
      ]
    },
    {
      "cell_type": "code",
      "metadata": {
        "colab": {
          "base_uri": "https://localhost:8080/",
          "height": 290
        },
        "id": "yTCjon9gyRjG",
        "outputId": "ebd2727e-4a6a-4de8-8148-865e01c2c904"
      },
      "source": [
        "# Find the squareroot (Will error, method requires non-int type)\n",
        "tf.sqrt(H)"
      ],
      "execution_count": 134,
      "outputs": [
        {
          "output_type": "error",
          "ename": "InvalidArgumentError",
          "evalue": "ignored",
          "traceback": [
            "\u001b[0;31m---------------------------------------------------------------------------\u001b[0m",
            "\u001b[0;31mInvalidArgumentError\u001b[0m                      Traceback (most recent call last)",
            "\u001b[0;32m<ipython-input-134-a5ebd5f1f5bf>\u001b[0m in \u001b[0;36m<module>\u001b[0;34m()\u001b[0m\n\u001b[1;32m      1\u001b[0m \u001b[0;31m# Find the squareroot (Will error, method requires non-int type)\u001b[0m\u001b[0;34m\u001b[0m\u001b[0;34m\u001b[0m\u001b[0;34m\u001b[0m\u001b[0m\n\u001b[0;32m----> 2\u001b[0;31m \u001b[0mtf\u001b[0m\u001b[0;34m.\u001b[0m\u001b[0msqrt\u001b[0m\u001b[0;34m(\u001b[0m\u001b[0mH\u001b[0m\u001b[0;34m)\u001b[0m\u001b[0;34m\u001b[0m\u001b[0;34m\u001b[0m\u001b[0m\n\u001b[0m",
            "\u001b[0;32m/usr/local/lib/python3.7/dist-packages/tensorflow/python/util/dispatch.py\u001b[0m in \u001b[0;36mwrapper\u001b[0;34m(*args, **kwargs)\u001b[0m\n\u001b[1;32m    204\u001b[0m     \u001b[0;34m\"\"\"Call target, and fall back on dispatchers if there is a TypeError.\"\"\"\u001b[0m\u001b[0;34m\u001b[0m\u001b[0;34m\u001b[0m\u001b[0m\n\u001b[1;32m    205\u001b[0m     \u001b[0;32mtry\u001b[0m\u001b[0;34m:\u001b[0m\u001b[0;34m\u001b[0m\u001b[0;34m\u001b[0m\u001b[0m\n\u001b[0;32m--> 206\u001b[0;31m       \u001b[0;32mreturn\u001b[0m \u001b[0mtarget\u001b[0m\u001b[0;34m(\u001b[0m\u001b[0;34m*\u001b[0m\u001b[0margs\u001b[0m\u001b[0;34m,\u001b[0m \u001b[0;34m**\u001b[0m\u001b[0mkwargs\u001b[0m\u001b[0;34m)\u001b[0m\u001b[0;34m\u001b[0m\u001b[0;34m\u001b[0m\u001b[0m\n\u001b[0m\u001b[1;32m    207\u001b[0m     \u001b[0;32mexcept\u001b[0m \u001b[0;34m(\u001b[0m\u001b[0mTypeError\u001b[0m\u001b[0;34m,\u001b[0m \u001b[0mValueError\u001b[0m\u001b[0;34m)\u001b[0m\u001b[0;34m:\u001b[0m\u001b[0;34m\u001b[0m\u001b[0;34m\u001b[0m\u001b[0m\n\u001b[1;32m    208\u001b[0m       \u001b[0;31m# Note: convert_to_eager_tensor currently raises a ValueError, not a\u001b[0m\u001b[0;34m\u001b[0m\u001b[0;34m\u001b[0m\u001b[0;34m\u001b[0m\u001b[0m\n",
            "\u001b[0;32m/usr/local/lib/python3.7/dist-packages/tensorflow/python/ops/math_ops.py\u001b[0m in \u001b[0;36msqrt\u001b[0;34m(x, name)\u001b[0m\n\u001b[1;32m   5084\u001b[0m     \u001b[0mA\u001b[0m\u001b[0;31m \u001b[0m\u001b[0;31m`\u001b[0m\u001b[0mtf\u001b[0m\u001b[0;34m.\u001b[0m\u001b[0mTensor\u001b[0m\u001b[0;31m`\u001b[0m \u001b[0mof\u001b[0m \u001b[0msame\u001b[0m \u001b[0msize\u001b[0m\u001b[0;34m,\u001b[0m \u001b[0mtype\u001b[0m \u001b[0;32mand\u001b[0m \u001b[0msparsity\u001b[0m \u001b[0;32mas\u001b[0m\u001b[0;31m \u001b[0m\u001b[0;31m`\u001b[0m\u001b[0mx\u001b[0m\u001b[0;31m`\u001b[0m\u001b[0;34m.\u001b[0m\u001b[0;34m\u001b[0m\u001b[0;34m\u001b[0m\u001b[0m\n\u001b[1;32m   5085\u001b[0m   \"\"\"\n\u001b[0;32m-> 5086\u001b[0;31m   \u001b[0;32mreturn\u001b[0m \u001b[0mgen_math_ops\u001b[0m\u001b[0;34m.\u001b[0m\u001b[0msqrt\u001b[0m\u001b[0;34m(\u001b[0m\u001b[0mx\u001b[0m\u001b[0;34m,\u001b[0m \u001b[0mname\u001b[0m\u001b[0;34m)\u001b[0m\u001b[0;34m\u001b[0m\u001b[0;34m\u001b[0m\u001b[0m\n\u001b[0m\u001b[1;32m   5087\u001b[0m \u001b[0;34m\u001b[0m\u001b[0m\n\u001b[1;32m   5088\u001b[0m \u001b[0;34m\u001b[0m\u001b[0m\n",
            "\u001b[0;32m/usr/local/lib/python3.7/dist-packages/tensorflow/python/ops/gen_math_ops.py\u001b[0m in \u001b[0;36msqrt\u001b[0;34m(x, name)\u001b[0m\n\u001b[1;32m  10207\u001b[0m       \u001b[0;32mreturn\u001b[0m \u001b[0m_result\u001b[0m\u001b[0;34m\u001b[0m\u001b[0;34m\u001b[0m\u001b[0m\n\u001b[1;32m  10208\u001b[0m     \u001b[0;32mexcept\u001b[0m \u001b[0m_core\u001b[0m\u001b[0;34m.\u001b[0m\u001b[0m_NotOkStatusException\u001b[0m \u001b[0;32mas\u001b[0m \u001b[0me\u001b[0m\u001b[0;34m:\u001b[0m\u001b[0;34m\u001b[0m\u001b[0;34m\u001b[0m\u001b[0m\n\u001b[0;32m> 10209\u001b[0;31m       \u001b[0m_ops\u001b[0m\u001b[0;34m.\u001b[0m\u001b[0mraise_from_not_ok_status\u001b[0m\u001b[0;34m(\u001b[0m\u001b[0me\u001b[0m\u001b[0;34m,\u001b[0m \u001b[0mname\u001b[0m\u001b[0;34m)\u001b[0m\u001b[0;34m\u001b[0m\u001b[0;34m\u001b[0m\u001b[0m\n\u001b[0m\u001b[1;32m  10210\u001b[0m     \u001b[0;32mexcept\u001b[0m \u001b[0m_core\u001b[0m\u001b[0;34m.\u001b[0m\u001b[0m_FallbackException\u001b[0m\u001b[0;34m:\u001b[0m\u001b[0;34m\u001b[0m\u001b[0;34m\u001b[0m\u001b[0m\n\u001b[1;32m  10211\u001b[0m       \u001b[0;32mpass\u001b[0m\u001b[0;34m\u001b[0m\u001b[0;34m\u001b[0m\u001b[0m\n",
            "\u001b[0;32m/usr/local/lib/python3.7/dist-packages/tensorflow/python/framework/ops.py\u001b[0m in \u001b[0;36mraise_from_not_ok_status\u001b[0;34m(e, name)\u001b[0m\n\u001b[1;32m   6895\u001b[0m   \u001b[0mmessage\u001b[0m \u001b[0;34m=\u001b[0m \u001b[0me\u001b[0m\u001b[0;34m.\u001b[0m\u001b[0mmessage\u001b[0m \u001b[0;34m+\u001b[0m \u001b[0;34m(\u001b[0m\u001b[0;34m\" name: \"\u001b[0m \u001b[0;34m+\u001b[0m \u001b[0mname\u001b[0m \u001b[0;32mif\u001b[0m \u001b[0mname\u001b[0m \u001b[0;32mis\u001b[0m \u001b[0;32mnot\u001b[0m \u001b[0;32mNone\u001b[0m \u001b[0;32melse\u001b[0m \u001b[0;34m\"\"\u001b[0m\u001b[0;34m)\u001b[0m\u001b[0;34m\u001b[0m\u001b[0;34m\u001b[0m\u001b[0m\n\u001b[1;32m   6896\u001b[0m   \u001b[0;31m# pylint: disable=protected-access\u001b[0m\u001b[0;34m\u001b[0m\u001b[0;34m\u001b[0m\u001b[0;34m\u001b[0m\u001b[0m\n\u001b[0;32m-> 6897\u001b[0;31m   \u001b[0msix\u001b[0m\u001b[0;34m.\u001b[0m\u001b[0mraise_from\u001b[0m\u001b[0;34m(\u001b[0m\u001b[0mcore\u001b[0m\u001b[0;34m.\u001b[0m\u001b[0m_status_to_exception\u001b[0m\u001b[0;34m(\u001b[0m\u001b[0me\u001b[0m\u001b[0;34m.\u001b[0m\u001b[0mcode\u001b[0m\u001b[0;34m,\u001b[0m \u001b[0mmessage\u001b[0m\u001b[0;34m)\u001b[0m\u001b[0;34m,\u001b[0m \u001b[0;32mNone\u001b[0m\u001b[0;34m)\u001b[0m\u001b[0;34m\u001b[0m\u001b[0;34m\u001b[0m\u001b[0m\n\u001b[0m\u001b[1;32m   6898\u001b[0m   \u001b[0;31m# pylint: enable=protected-access\u001b[0m\u001b[0;34m\u001b[0m\u001b[0;34m\u001b[0m\u001b[0;34m\u001b[0m\u001b[0m\n\u001b[1;32m   6899\u001b[0m \u001b[0;34m\u001b[0m\u001b[0m\n",
            "\u001b[0;32m/usr/local/lib/python3.7/dist-packages/six.py\u001b[0m in \u001b[0;36mraise_from\u001b[0;34m(value, from_value)\u001b[0m\n",
            "\u001b[0;31mInvalidArgumentError\u001b[0m: Value for attr 'T' of int32 is not in the list of allowed values: bfloat16, half, float, double, complex64, complex128\n\t; NodeDef: {{node Sqrt}}; Op<name=Sqrt; signature=x:T -> y:T; attr=T:type,allowed=[DT_BFLOAT16, DT_HALF, DT_FLOAT, DT_DOUBLE, DT_COMPLEX64, DT_COMPLEX128]> [Op:Sqrt]"
          ]
        }
      ]
    },
    {
      "cell_type": "code",
      "metadata": {
        "colab": {
          "base_uri": "https://localhost:8080/"
        },
        "id": "SiOTJHfbx9bP",
        "outputId": "5079f177-14f2-4e28-bc5b-007d0a373512"
      },
      "source": [
        "# Find the Square root\n",
        "tf.sqrt(tf.cast(H, dtype=tf.float32))"
      ],
      "execution_count": 133,
      "outputs": [
        {
          "output_type": "execute_result",
          "data": {
            "text/plain": [
              "<tf.Tensor: shape=(9,), dtype=float32, numpy=\n",
              "array([0.99999994, 1.4142134 , 1.7320508 , 1.9999999 , 2.236068  ,\n",
              "       2.4494896 , 2.6457512 , 2.8284268 , 3.        ], dtype=float32)>"
            ]
          },
          "metadata": {
            "tags": []
          },
          "execution_count": 133
        }
      ]
    },
    {
      "cell_type": "code",
      "metadata": {
        "colab": {
          "base_uri": "https://localhost:8080/"
        },
        "id": "7P2l8U_LyeOq",
        "outputId": "1e297ba2-a98e-446d-ed49-77194fd40ea3"
      },
      "source": [
        "# Find the log\n",
        "tf.math.log(tf.cast(H, dtype=tf.float32))"
      ],
      "execution_count": 135,
      "outputs": [
        {
          "output_type": "execute_result",
          "data": {
            "text/plain": [
              "<tf.Tensor: shape=(9,), dtype=float32, numpy=\n",
              "array([0.       , 0.6931472, 1.0986123, 1.3862944, 1.609438 , 1.7917595,\n",
              "       1.9459102, 2.0794415, 2.1972246], dtype=float32)>"
            ]
          },
          "metadata": {
            "tags": []
          },
          "execution_count": 135
        }
      ]
    },
    {
      "cell_type": "markdown",
      "metadata": {
        "id": "BQzauk-Ey09Z"
      },
      "source": [
        "### Tensors and NumPy\n",
        "\n",
        ">TensorFlow interacts so good with NumPy array"
      ]
    },
    {
      "cell_type": "code",
      "metadata": {
        "colab": {
          "base_uri": "https://localhost:8080/"
        },
        "id": "zEvShZl3zHJg",
        "outputId": "53602bc2-0207-41a4-eb5a-cae27cad4cf8"
      },
      "source": [
        "# Create a tensor directly from a NumPy array\n",
        "J = tf.constant(np.array([3., 7., 10.]))\n",
        "J"
      ],
      "execution_count": 138,
      "outputs": [
        {
          "output_type": "execute_result",
          "data": {
            "text/plain": [
              "<tf.Tensor: shape=(3,), dtype=float64, numpy=array([ 3.,  7., 10.])>"
            ]
          },
          "metadata": {
            "tags": []
          },
          "execution_count": 138
        }
      ]
    },
    {
      "cell_type": "code",
      "metadata": {
        "colab": {
          "base_uri": "https://localhost:8080/"
        },
        "id": "Cdb2orGIzmgX",
        "outputId": "0f21ebd9-71d1-4840-96c4-3d8756a56f47"
      },
      "source": [
        "# Convert our tensor back to NumPy array\n",
        "np.array(J), type(np.array(J))"
      ],
      "execution_count": 139,
      "outputs": [
        {
          "output_type": "execute_result",
          "data": {
            "text/plain": [
              "(array([ 3.,  7., 10.]), numpy.ndarray)"
            ]
          },
          "metadata": {
            "tags": []
          },
          "execution_count": 139
        }
      ]
    },
    {
      "cell_type": "code",
      "metadata": {
        "colab": {
          "base_uri": "https://localhost:8080/"
        },
        "id": "I3q8-zlWz8M5",
        "outputId": "1d6ef474-6b3c-4efc-b1f6-b98be7cc8d89"
      },
      "source": [
        "# Convert tensor J to a NumPy array\n",
        "J.numpy(), type(J.numpy())"
      ],
      "execution_count": 140,
      "outputs": [
        {
          "output_type": "execute_result",
          "data": {
            "text/plain": [
              "(array([ 3.,  7., 10.]), numpy.ndarray)"
            ]
          },
          "metadata": {
            "tags": []
          },
          "execution_count": 140
        }
      ]
    },
    {
      "cell_type": "code",
      "metadata": {
        "colab": {
          "base_uri": "https://localhost:8080/"
        },
        "id": "HhnfeYuY0EbY",
        "outputId": "1654e0c9-3e61-402e-d155-a349b63c9462"
      },
      "source": [
        "J = tf.constant([3.])\n",
        "J.numpy()[0]"
      ],
      "execution_count": 142,
      "outputs": [
        {
          "output_type": "execute_result",
          "data": {
            "text/plain": [
              "3.0"
            ]
          },
          "metadata": {
            "tags": []
          },
          "execution_count": 142
        }
      ]
    },
    {
      "cell_type": "code",
      "metadata": {
        "colab": {
          "base_uri": "https://localhost:8080/"
        },
        "id": "a_KoAXAI0LIg",
        "outputId": "dd224adf-7838-4dde-a1d3-8e76feae592e"
      },
      "source": [
        "# The default types of each are slightly different\n",
        "numpy_J = tf.constant(np.array([3., 7., 10.]))\n",
        "tensor_J = tf.constant([3., 7., 10.])\n",
        "# Check the datatype of each\n",
        "numpy_J.dtype, tensor_J.dtype"
      ],
      "execution_count": 143,
      "outputs": [
        {
          "output_type": "execute_result",
          "data": {
            "text/plain": [
              "(tf.float64, tf.float32)"
            ]
          },
          "metadata": {
            "tags": []
          },
          "execution_count": 143
        }
      ]
    },
    {
      "cell_type": "markdown",
      "metadata": {
        "id": "oA-hIAlO0wyY"
      },
      "source": [
        "### Finding access to GPUs"
      ]
    },
    {
      "cell_type": "code",
      "metadata": {
        "id": "tQPaQT3q3n-y"
      },
      "source": [
        "import tensorflow as tf"
      ],
      "execution_count": 1,
      "outputs": []
    },
    {
      "cell_type": "code",
      "metadata": {
        "colab": {
          "base_uri": "https://localhost:8080/"
        },
        "id": "PabJ8zLW2LkA",
        "outputId": "f2070581-ffc0-4e7c-99f5-bb67da697d3c"
      },
      "source": [
        "# Check available devices\n",
        "tf.config.list_physical_devices()"
      ],
      "execution_count": 2,
      "outputs": [
        {
          "output_type": "execute_result",
          "data": {
            "text/plain": [
              "[PhysicalDevice(name='/physical_device:CPU:0', device_type='CPU'),\n",
              " PhysicalDevice(name='/physical_device:GPU:0', device_type='GPU')]"
            ]
          },
          "metadata": {
            "tags": []
          },
          "execution_count": 2
        }
      ]
    },
    {
      "cell_type": "code",
      "metadata": {
        "colab": {
          "base_uri": "https://localhost:8080/"
        },
        "id": "VD2E0CLF2USM",
        "outputId": "3020720a-f2ed-4f16-9ded-1c4c0a277be1"
      },
      "source": [
        "tf.config.list_logical_devices()"
      ],
      "execution_count": 3,
      "outputs": [
        {
          "output_type": "execute_result",
          "data": {
            "text/plain": [
              "[LogicalDevice(name='/device:CPU:0', device_type='CPU'),\n",
              " LogicalDevice(name='/device:GPU:0', device_type='GPU')]"
            ]
          },
          "metadata": {
            "tags": []
          },
          "execution_count": 3
        }
      ]
    },
    {
      "cell_type": "code",
      "metadata": {
        "colab": {
          "base_uri": "https://localhost:8080/"
        },
        "id": "TmGTfb3G2X_H",
        "outputId": "814b139e-745a-4093-f0a6-0b2b56e8abfa"
      },
      "source": [
        "# Check whether GPU is connected\n",
        "tf.config.list_physical_devices(\"GPU\")"
      ],
      "execution_count": 4,
      "outputs": [
        {
          "output_type": "execute_result",
          "data": {
            "text/plain": [
              "[PhysicalDevice(name='/physical_device:GPU:0', device_type='GPU')]"
            ]
          },
          "metadata": {
            "tags": []
          },
          "execution_count": 4
        }
      ]
    },
    {
      "cell_type": "code",
      "metadata": {
        "colab": {
          "base_uri": "https://localhost:8080/"
        },
        "id": "pdOILT1L2fY8",
        "outputId": "44e80eb0-6d71-4af0-a66c-6382b4120efd"
      },
      "source": [
        "# Check whether TPU is connected\n",
        "tf.config.list_physical_devices(\"TPU\")"
      ],
      "execution_count": 5,
      "outputs": [
        {
          "output_type": "execute_result",
          "data": {
            "text/plain": [
              "[]"
            ]
          },
          "metadata": {
            "tags": []
          },
          "execution_count": 5
        }
      ]
    },
    {
      "cell_type": "code",
      "metadata": {
        "colab": {
          "base_uri": "https://localhost:8080/"
        },
        "id": "BbChMEqr2sST",
        "outputId": "7fd75585-c4bc-4b01-8c0d-d573b8541800"
      },
      "source": [
        "!nvidia-smi"
      ],
      "execution_count": 6,
      "outputs": [
        {
          "output_type": "stream",
          "text": [
            "Sun Jul  4 18:59:00 2021       \n",
            "+-----------------------------------------------------------------------------+\n",
            "| NVIDIA-SMI 465.27       Driver Version: 460.32.03    CUDA Version: 11.2     |\n",
            "|-------------------------------+----------------------+----------------------+\n",
            "| GPU  Name        Persistence-M| Bus-Id        Disp.A | Volatile Uncorr. ECC |\n",
            "| Fan  Temp  Perf  Pwr:Usage/Cap|         Memory-Usage | GPU-Util  Compute M. |\n",
            "|                               |                      |               MIG M. |\n",
            "|===============================+======================+======================|\n",
            "|   0  Tesla T4            Off  | 00000000:00:04.0 Off |                    0 |\n",
            "| N/A   56C    P0    29W /  70W |    222MiB / 15109MiB |      0%      Default |\n",
            "|                               |                      |                  N/A |\n",
            "+-------------------------------+----------------------+----------------------+\n",
            "                                                                               \n",
            "+-----------------------------------------------------------------------------+\n",
            "| Processes:                                                                  |\n",
            "|  GPU   GI   CI        PID   Type   Process name                  GPU Memory |\n",
            "|        ID   ID                                                   Usage      |\n",
            "|=============================================================================|\n",
            "+-----------------------------------------------------------------------------+\n"
          ],
          "name": "stdout"
        }
      ]
    },
    {
      "cell_type": "markdown",
      "metadata": {
        "id": "3EaVLuV-3W3u"
      },
      "source": [
        "> 🔑 **Note:** If we have access to a CUDA-anabled GPU, TensorFlow will automatically run on it."
      ]
    }
  ]
}